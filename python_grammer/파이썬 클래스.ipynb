{
 "cells": [
  {
   "cell_type": "markdown",
   "id": "e76d6661",
   "metadata": {},
   "source": [
    "# 파이썬 클래스"
   ]
  },
  {
   "cell_type": "markdown",
   "id": "cee6ec34",
   "metadata": {},
   "source": [
    "# 계산기 프로그램\n",
    " - 계산기는 이전에 계산한 결괏값을 항상 메모리 어딘가에 저장하고 있어야 한다."
   ]
  },
  {
   "cell_type": "code",
   "execution_count": 1,
   "id": "8735790c",
   "metadata": {},
   "outputs": [
    {
     "name": "stdout",
     "output_type": "stream",
     "text": [
      "3\n",
      "7\n"
     ]
    }
   ],
   "source": [
    "result = 0\n",
    "\n",
    "def add(num):\n",
    "    global result\n",
    "    result += num  # 결괏값(result)에 입력값(num) 더하기\n",
    "    return result  # 결괏값 리턴\n",
    "\n",
    "print(add(3))\n",
    "print(add(4))"
   ]
  },
  {
   "cell_type": "code",
   "execution_count": 2,
   "id": "dd7ce1ec",
   "metadata": {},
   "outputs": [
    {
     "name": "stdout",
     "output_type": "stream",
     "text": [
      "3\n",
      "7\n",
      "3\n",
      "10\n"
     ]
    }
   ],
   "source": [
    "# 만일 한 프로그램에서 2대의 계산기가 필요한 상황이 발생하면?\n",
    "result1 = 0\n",
    "result2 = 0\n",
    "\n",
    "def add1(num):  # 계산기1\n",
    "    global result1\n",
    "    result1 += num\n",
    "    return result1\n",
    "\n",
    "def add2(num):  # 계산기2\n",
    "    global result2\n",
    "    result2 += num\n",
    "    return result2\n",
    "\n",
    "print(add1(3))\n",
    "print(add1(4))\n",
    "print(add2(3))\n",
    "print(add2(7))"
   ]
  },
  {
   "cell_type": "code",
   "execution_count": 3,
   "id": "a6177d6d",
   "metadata": {},
   "outputs": [
    {
     "name": "stdout",
     "output_type": "stream",
     "text": [
      "3\n",
      "7\n",
      "3\n",
      "10\n"
     ]
    }
   ],
   "source": [
    "class Calculator:\n",
    "    def __init__(self):\n",
    "        self.result = 0\n",
    "\n",
    "    def add(self, num):\n",
    "        self.result += num\n",
    "        return self.result\n",
    "\n",
    "cal1 = Calculator()\n",
    "cal2 = Calculator()\n",
    "\n",
    "print(cal1.add(3))\n",
    "print(cal1.add(4))\n",
    "print(cal2.add(3))\n",
    "print(cal2.add(7))"
   ]
  },
  {
   "cell_type": "markdown",
   "id": "0223da1f",
   "metadata": {},
   "source": [
    "- 과자 틀 = 클래스\n",
    "- 과자 틀로 찍어 낸 과자 = 객체(object)\n",
    "- 객체마다 고유한 성격을 가진다는 것이다. \n",
    "과자 틀로 만든 과자에 구멍을 뚫거나 조금 베어 먹더라도 다른 과자에는 아무런 영향이 없는 것과 마찬가지로 동일한 클래스로 만든 객체들은 서로 전혀 영향을 주지 않는다."
   ]
  },
  {
   "cell_type": "code",
   "execution_count": 5,
   "id": "c4b2de0c",
   "metadata": {},
   "outputs": [],
   "source": [
    "class Cookie:\n",
    "     pass"
   ]
  },
  {
   "cell_type": "code",
   "execution_count": 8,
   "id": "afcec6b5",
   "metadata": {},
   "outputs": [
    {
     "data": {
      "text/plain": [
       "<__main__.Cookie at 0x1460f38a1d0>"
      ]
     },
     "execution_count": 8,
     "metadata": {},
     "output_type": "execute_result"
    }
   ],
   "source": [
    "a = Cookie() # 쿠키라는 클래스로 만들어진 객체 a\n",
    "a"
   ]
  },
  {
   "cell_type": "markdown",
   "id": "a66c797e",
   "metadata": {},
   "source": [
    "#### 클래스로 만든 객체를 ‘인스턴스’\n",
    "    a = Cookie()로 만든 a는 객체이다. 그리고 a 객체는 Cookie의 인스턴스"
   ]
  },
  {
   "cell_type": "markdown",
   "id": "820c1c7c",
   "metadata": {},
   "source": [
    "# 사칙연산 클래스 만들기"
   ]
  },
  {
   "cell_type": "markdown",
   "id": "2d0f7d9f",
   "metadata": {},
   "source": [
    "### 클래스 구조 만들기 (반드시 첫 문자는 대문자로!)"
   ]
  },
  {
   "cell_type": "code",
   "execution_count": 9,
   "id": "cda6e0c1",
   "metadata": {},
   "outputs": [
    {
     "data": {
      "text/plain": [
       "(<__main__.FourCal at 0x1460f3c5f90>, __main__.FourCal)"
      ]
     },
     "execution_count": 9,
     "metadata": {},
     "output_type": "execute_result"
    }
   ],
   "source": [
    "class FourCal:\n",
    "    pass\n",
    "\n",
    "a = FourCal()\n",
    "a, type(a)"
   ]
  },
  {
   "cell_type": "code",
   "execution_count": 10,
   "id": "577fae63",
   "metadata": {},
   "outputs": [],
   "source": [
    "class FourCal:\n",
    "     def setdata(self, first, second):  # 메서드의 매개변수\n",
    "         self.first = first             # 메서드의 수행문\n",
    "         self.second = second           # 메서드의 수행문"
   ]
  },
  {
   "cell_type": "code",
   "execution_count": 11,
   "id": "5a577920",
   "metadata": {},
   "outputs": [],
   "source": [
    "# 메서드를 실행하는 방식(1)\n",
    "\n",
    "a = FourCal()\n",
    "a.setdata(3, 4)"
   ]
  },
  {
   "cell_type": "code",
   "execution_count": 16,
   "id": "c08bd807",
   "metadata": {},
   "outputs": [],
   "source": [
    "# 메서드를 실행하는 방식(2)\n",
    "\n",
    "FourCal.setdata(a, 3, 4)"
   ]
  },
  {
   "cell_type": "code",
   "execution_count": 17,
   "id": "060e4f25",
   "metadata": {},
   "outputs": [
    {
     "data": {
      "text/plain": [
       "3"
      ]
     },
     "execution_count": 17,
     "metadata": {},
     "output_type": "execute_result"
    }
   ],
   "source": [
    "a.first  # 객체변수"
   ]
  },
  {
   "cell_type": "code",
   "execution_count": 18,
   "id": "b0d7b43e",
   "metadata": {},
   "outputs": [
    {
     "data": {
      "text/plain": [
       "4"
      ]
     },
     "execution_count": 18,
     "metadata": {},
     "output_type": "execute_result"
    }
   ],
   "source": [
    "a.second  # 객체변수"
   ]
  },
  {
   "cell_type": "code",
   "execution_count": 26,
   "id": "848ae923",
   "metadata": {
    "scrolled": true
   },
   "outputs": [],
   "source": [
    "# a.setdata() 메서드(함수)\n",
    "\n",
    "a = FourCal()\n",
    "b = FourCal()"
   ]
  },
  {
   "cell_type": "code",
   "execution_count": 24,
   "id": "2a581cf3",
   "metadata": {},
   "outputs": [
    {
     "data": {
      "text/plain": [
       "4"
      ]
     },
     "execution_count": 24,
     "metadata": {},
     "output_type": "execute_result"
    }
   ],
   "source": [
    "a.setdata(4, 2)\n",
    "a.first"
   ]
  },
  {
   "cell_type": "code",
   "execution_count": 25,
   "id": "bd3ce951",
   "metadata": {},
   "outputs": [
    {
     "data": {
      "text/plain": [
       "3"
      ]
     },
     "execution_count": 25,
     "metadata": {},
     "output_type": "execute_result"
    }
   ],
   "source": [
    "b.setdata(3, 7)\n",
    "b.first"
   ]
  },
  {
   "cell_type": "markdown",
   "id": "1003a301",
   "metadata": {},
   "source": [
    "## 더하기 기능 만들기"
   ]
  },
  {
   "cell_type": "code",
   "execution_count": 27,
   "id": "79c8b90f",
   "metadata": {},
   "outputs": [],
   "source": [
    "class FourCal:\n",
    "     def setdata(self, first, second):\n",
    "         self.first = first\n",
    "         self.second = second\n",
    "     def add(self):\n",
    "         result = self.first + self.second\n",
    "         return result"
   ]
  },
  {
   "cell_type": "code",
   "execution_count": 28,
   "id": "15d64a91",
   "metadata": {},
   "outputs": [
    {
     "data": {
      "text/plain": [
       "6"
      ]
     },
     "execution_count": 28,
     "metadata": {},
     "output_type": "execute_result"
    }
   ],
   "source": [
    "a = FourCal()\n",
    "a.setdata(4, 2)\n",
    "a.add()"
   ]
  },
  {
   "cell_type": "code",
   "execution_count": 33,
   "id": "2bcc7424",
   "metadata": {},
   "outputs": [],
   "source": [
    "class FourCal:\n",
    "     def setdata(self, first, second):\n",
    "         self.first = first\n",
    "         self.second = second\n",
    "     def add(self):\n",
    "         result = self.first + self.second\n",
    "         return result\n",
    "     def mul(self):\n",
    "         result = self.first * self.second\n",
    "         return result\n",
    "     def sub(self):\n",
    "         result = self.first - self.second\n",
    "         return result\n",
    "     def div(self):\n",
    "         result = self.first / self.second\n",
    "         return result"
   ]
  },
  {
   "cell_type": "code",
   "execution_count": 38,
   "id": "436796f5",
   "metadata": {},
   "outputs": [
    {
     "data": {
      "text/plain": [
       "6"
      ]
     },
     "execution_count": 38,
     "metadata": {},
     "output_type": "execute_result"
    }
   ],
   "source": [
    "a = FourCal()\n",
    "a.setdata(4, 2)\n",
    "a.add()"
   ]
  },
  {
   "cell_type": "code",
   "execution_count": 39,
   "id": "4ca7d8b7",
   "metadata": {},
   "outputs": [
    {
     "data": {
      "text/plain": [
       "8"
      ]
     },
     "execution_count": 39,
     "metadata": {},
     "output_type": "execute_result"
    }
   ],
   "source": [
    "a.mul()"
   ]
  },
  {
   "cell_type": "code",
   "execution_count": 40,
   "id": "60ac1edb",
   "metadata": {},
   "outputs": [
    {
     "data": {
      "text/plain": [
       "2"
      ]
     },
     "execution_count": 40,
     "metadata": {},
     "output_type": "execute_result"
    }
   ],
   "source": [
    "a.sub()"
   ]
  },
  {
   "cell_type": "code",
   "execution_count": 41,
   "id": "6509ebd8",
   "metadata": {},
   "outputs": [
    {
     "data": {
      "text/plain": [
       "2.0"
      ]
     },
     "execution_count": 41,
     "metadata": {},
     "output_type": "execute_result"
    }
   ],
   "source": [
    "a.div()"
   ]
  },
  {
   "cell_type": "markdown",
   "id": "3d90f507",
   "metadata": {},
   "source": [
    "## 생성자\n",
    "- 생성자(constructor)란 객체가 생성될 때 자동으로 호출되는 메서드를 의미\n",
    "- 파이썬 메서드명으로 __init__를 사용하면 이 메서드는 생성자\n",
    "- 객체가 생성되는 시점에 자동으로 호출된다는 차이"
   ]
  },
  {
   "cell_type": "code",
   "execution_count": null,
   "id": "1787f0ba",
   "metadata": {},
   "outputs": [],
   "source": [
    "a = FourCal()\n",
    "a.add()"
   ]
  },
  {
   "cell_type": "code",
   "execution_count": 51,
   "id": "6e78da05",
   "metadata": {},
   "outputs": [],
   "source": [
    "class FourCal:\n",
    "     def __init__(self, first, second):  #  __init__ : 생성자\n",
    "         self.first = first\n",
    "         self.second = second\n",
    "     def setdata(self, first, second):\n",
    "         self.first = first\n",
    "         self.second = second\n",
    "     def add(self):\n",
    "         result = self.first + self.second\n",
    "         return result\n",
    "     def mul(self):\n",
    "         result = self.first * self.second\n",
    "         return result\n",
    "     def sub(self):\n",
    "         result = self.first - self.second\n",
    "         return result\n",
    "     def div(self):\n",
    "         result = self.first / self.second\n",
    "         return result\n"
   ]
  },
  {
   "cell_type": "code",
   "execution_count": 44,
   "id": "11a8854e",
   "metadata": {},
   "outputs": [],
   "source": [
    "a = FourCal(8,2)"
   ]
  },
  {
   "cell_type": "code",
   "execution_count": 45,
   "id": "047702e7",
   "metadata": {},
   "outputs": [
    {
     "data": {
      "text/plain": [
       "10"
      ]
     },
     "execution_count": 45,
     "metadata": {},
     "output_type": "execute_result"
    }
   ],
   "source": [
    "a.add()"
   ]
  },
  {
   "cell_type": "code",
   "execution_count": 46,
   "id": "afbcccae",
   "metadata": {},
   "outputs": [
    {
     "data": {
      "text/plain": [
       "16"
      ]
     },
     "execution_count": 46,
     "metadata": {},
     "output_type": "execute_result"
    }
   ],
   "source": [
    "a.mul()"
   ]
  },
  {
   "cell_type": "code",
   "execution_count": 47,
   "id": "4c02faae",
   "metadata": {},
   "outputs": [
    {
     "data": {
      "text/plain": [
       "6"
      ]
     },
     "execution_count": 47,
     "metadata": {},
     "output_type": "execute_result"
    }
   ],
   "source": [
    "a.sub()"
   ]
  },
  {
   "cell_type": "code",
   "execution_count": 48,
   "id": "59258329",
   "metadata": {},
   "outputs": [
    {
     "data": {
      "text/plain": [
       "4.0"
      ]
     },
     "execution_count": 48,
     "metadata": {},
     "output_type": "execute_result"
    }
   ],
   "source": [
    "a.div()"
   ]
  },
  {
   "cell_type": "code",
   "execution_count": 49,
   "id": "04200030",
   "metadata": {},
   "outputs": [
    {
     "data": {
      "text/plain": [
       "8"
      ]
     },
     "execution_count": 49,
     "metadata": {},
     "output_type": "execute_result"
    }
   ],
   "source": [
    "a.first"
   ]
  },
  {
   "cell_type": "code",
   "execution_count": 50,
   "id": "4abd2f5b",
   "metadata": {},
   "outputs": [
    {
     "data": {
      "text/plain": [
       "2"
      ]
     },
     "execution_count": 50,
     "metadata": {},
     "output_type": "execute_result"
    }
   ],
   "source": [
    "a.second"
   ]
  },
  {
   "cell_type": "markdown",
   "id": "fa56728f",
   "metadata": {},
   "source": [
    "## 클래스의 상속\n",
    "    class 클래스_이름(상속할_클래스_이름)"
   ]
  },
  {
   "cell_type": "code",
   "execution_count": 53,
   "id": "c4629f2d",
   "metadata": {},
   "outputs": [],
   "source": [
    "class MoreFourCal(FourCal):\n",
    "    pass"
   ]
  },
  {
   "cell_type": "code",
   "execution_count": 55,
   "id": "354c0eed",
   "metadata": {},
   "outputs": [
    {
     "name": "stdout",
     "output_type": "stream",
     "text": [
      "10 16 6 4.0\n"
     ]
    }
   ],
   "source": [
    "a = MoreFourCal(8, 2)\n",
    "print(a.add(), a.mul(), a.sub(), a.div())"
   ]
  },
  {
   "cell_type": "code",
   "execution_count": 57,
   "id": "febffab9",
   "metadata": {},
   "outputs": [],
   "source": [
    ">>> class MoreFourCal(FourCal):\n",
    "...     def pow(self):      # pow : 제곱\n",
    "...         result = self.first ** self.second\n",
    "...         return result"
   ]
  },
  {
   "cell_type": "code",
   "execution_count": 58,
   "id": "54ac1d92",
   "metadata": {},
   "outputs": [
    {
     "data": {
      "text/plain": [
       "64"
      ]
     },
     "execution_count": 58,
     "metadata": {},
     "output_type": "execute_result"
    }
   ],
   "source": [
    "a = MoreFourCal(8, 2)\n",
    "a.pow()"
   ]
  },
  {
   "cell_type": "markdown",
   "id": "6e47beb7",
   "metadata": {},
   "source": [
    "## 메서드 오버라이딩\n",
    "- 클래스(상속한 클래스)에 있는 메서드를 동일한 이름으로 다시 만드는 것을 메서드 오버라이딩(method overriding) \n",
    "- = 덮어쓰기"
   ]
  },
  {
   "cell_type": "code",
   "execution_count": 61,
   "id": "0b4d288a",
   "metadata": {},
   "outputs": [
    {
     "ename": "ZeroDivisionError",
     "evalue": "division by zero",
     "output_type": "error",
     "traceback": [
      "\u001b[1;31m---------------------------------------------------------------------------\u001b[0m",
      "\u001b[1;31mZeroDivisionError\u001b[0m                         Traceback (most recent call last)",
      "Cell \u001b[1;32mIn[61], line 2\u001b[0m\n\u001b[0;32m      1\u001b[0m a \u001b[38;5;241m=\u001b[39m FourCal(\u001b[38;5;241m4\u001b[39m, \u001b[38;5;241m0\u001b[39m)\n\u001b[1;32m----> 2\u001b[0m a\u001b[38;5;241m.\u001b[39mdiv()\n",
      "Cell \u001b[1;32mIn[51], line 18\u001b[0m, in \u001b[0;36mFourCal.div\u001b[1;34m(self)\u001b[0m\n\u001b[0;32m     17\u001b[0m \u001b[38;5;28;01mdef\u001b[39;00m \u001b[38;5;21mdiv\u001b[39m(\u001b[38;5;28mself\u001b[39m):\n\u001b[1;32m---> 18\u001b[0m     result \u001b[38;5;241m=\u001b[39m \u001b[38;5;28mself\u001b[39m\u001b[38;5;241m.\u001b[39mfirst \u001b[38;5;241m/\u001b[39m \u001b[38;5;28mself\u001b[39m\u001b[38;5;241m.\u001b[39msecond\n\u001b[0;32m     19\u001b[0m     \u001b[38;5;28;01mreturn\u001b[39;00m result\n",
      "\u001b[1;31mZeroDivisionError\u001b[0m: division by zero"
     ]
    }
   ],
   "source": [
    "a = FourCal(4, 0)\n",
    "a.div()"
   ]
  },
  {
   "cell_type": "code",
   "execution_count": 62,
   "id": "c14637c7",
   "metadata": {},
   "outputs": [],
   "source": [
    ">>> class SafeFourCal(FourCal):\n",
    "...     def div(self):\n",
    "...         if self.second == 0:  # 나누는 값이 0인 경우 0을 리턴하도록 수정\n",
    "...             return 0\n",
    "...         else:\n",
    "...             return self.first / self.second"
   ]
  },
  {
   "cell_type": "code",
   "execution_count": 63,
   "id": "0093b1e9",
   "metadata": {},
   "outputs": [
    {
     "data": {
      "text/plain": [
       "0"
      ]
     },
     "execution_count": 63,
     "metadata": {},
     "output_type": "execute_result"
    }
   ],
   "source": [
    ">>> a = SafeFourCal(4, 0)\n",
    ">>> a.div()"
   ]
  },
  {
   "cell_type": "markdown",
   "id": "1fcc948d",
   "metadata": {},
   "source": [
    "## 클래스 변수"
   ]
  },
  {
   "cell_type": "code",
   "execution_count": 64,
   "id": "72686b69",
   "metadata": {},
   "outputs": [],
   "source": [
    ">>> class Family:\n",
    "...     lastname = \"김\""
   ]
  },
  {
   "cell_type": "code",
   "execution_count": 65,
   "id": "cfc5d649",
   "metadata": {},
   "outputs": [
    {
     "data": {
      "text/plain": [
       "'김'"
      ]
     },
     "execution_count": 65,
     "metadata": {},
     "output_type": "execute_result"
    }
   ],
   "source": [
    ">>> Family.lastname"
   ]
  },
  {
   "cell_type": "code",
   "execution_count": 66,
   "id": "cf76bff0",
   "metadata": {},
   "outputs": [
    {
     "data": {
      "text/plain": [
       "'김'"
      ]
     },
     "execution_count": 66,
     "metadata": {},
     "output_type": "execute_result"
    }
   ],
   "source": [
    "a = Family()\n",
    "b = Family()\n",
    "a.lastname"
   ]
  },
  {
   "cell_type": "code",
   "execution_count": 67,
   "id": "8aaf59a4",
   "metadata": {},
   "outputs": [
    {
     "data": {
      "text/plain": [
       "'김'"
      ]
     },
     "execution_count": 67,
     "metadata": {},
     "output_type": "execute_result"
    }
   ],
   "source": [
    "b.lastname"
   ]
  },
  {
   "cell_type": "code",
   "execution_count": 68,
   "id": "61e67b4d",
   "metadata": {},
   "outputs": [
    {
     "data": {
      "text/plain": [
       "'황'"
      ]
     },
     "execution_count": 68,
     "metadata": {},
     "output_type": "execute_result"
    }
   ],
   "source": [
    "Family.lastname = \"황\"\n",
    "a.lastname"
   ]
  },
  {
   "cell_type": "code",
   "execution_count": 69,
   "id": "f4fe166c",
   "metadata": {},
   "outputs": [
    {
     "data": {
      "text/plain": [
       "'황'"
      ]
     },
     "execution_count": 69,
     "metadata": {},
     "output_type": "execute_result"
    }
   ],
   "source": [
    "b.lastname"
   ]
  },
  {
   "cell_type": "code",
   "execution_count": 70,
   "id": "258bc218",
   "metadata": {},
   "outputs": [
    {
     "data": {
      "text/plain": [
       "'양'"
      ]
     },
     "execution_count": 70,
     "metadata": {},
     "output_type": "execute_result"
    }
   ],
   "source": [
    "a.lastname = '양'\n",
    "a.lastname"
   ]
  },
  {
   "cell_type": "code",
   "execution_count": 73,
   "id": "0c9df1c4",
   "metadata": {},
   "outputs": [
    {
     "data": {
      "text/plain": [
       "'황'"
      ]
     },
     "execution_count": 73,
     "metadata": {},
     "output_type": "execute_result"
    }
   ],
   "source": [
    "# a.lastname 객체변수를 생성하더라도 Family 클래스의 lastname과는 상관없다\n",
    "Family.lastname"
   ]
  },
  {
   "cell_type": "code",
   "execution_count": 72,
   "id": "7d88c480",
   "metadata": {},
   "outputs": [
    {
     "data": {
      "text/plain": [
       "'황'"
      ]
     },
     "execution_count": 72,
     "metadata": {},
     "output_type": "execute_result"
    }
   ],
   "source": [
    "b.lastname"
   ]
  },
  {
   "cell_type": "markdown",
   "id": "6db50885",
   "metadata": {},
   "source": [
    "## > 구조가 헷갈릴 때는 파이썬 튜터를 사용하기"
   ]
  },
  {
   "cell_type": "markdown",
   "id": "dff6d637",
   "metadata": {},
   "source": []
  },
  {
   "cell_type": "markdown",
   "id": "d5d109c6",
   "metadata": {},
   "source": [
    "# 파이썬 예외처리\n",
    "## 오류가 언제 발생하는지?\n",
    "### 존재하지 않는 파일을 사용하려고 시도했을 때"
   ]
  },
  {
   "cell_type": "code",
   "execution_count": 75,
   "id": "9820b948",
   "metadata": {},
   "outputs": [
    {
     "ename": "FileNotFoundError",
     "evalue": "[Errno 2] No such file or directory: '나없는파일'",
     "output_type": "error",
     "traceback": [
      "\u001b[1;31m---------------------------------------------------------------------------\u001b[0m",
      "\u001b[1;31mFileNotFoundError\u001b[0m                         Traceback (most recent call last)",
      "Cell \u001b[1;32mIn[75], line 1\u001b[0m\n\u001b[1;32m----> 1\u001b[0m f \u001b[38;5;241m=\u001b[39m \u001b[38;5;28mopen\u001b[39m(\u001b[38;5;124m\"\u001b[39m\u001b[38;5;124m나없는파일\u001b[39m\u001b[38;5;124m\"\u001b[39m, \u001b[38;5;124m'\u001b[39m\u001b[38;5;124mr\u001b[39m\u001b[38;5;124m'\u001b[39m)\n",
      "File \u001b[1;32m~\\AppData\\Local\\anaconda3\\Lib\\site-packages\\IPython\\core\\interactiveshell.py:286\u001b[0m, in \u001b[0;36m_modified_open\u001b[1;34m(file, *args, **kwargs)\u001b[0m\n\u001b[0;32m    279\u001b[0m \u001b[38;5;28;01mif\u001b[39;00m file \u001b[38;5;129;01min\u001b[39;00m {\u001b[38;5;241m0\u001b[39m, \u001b[38;5;241m1\u001b[39m, \u001b[38;5;241m2\u001b[39m}:\n\u001b[0;32m    280\u001b[0m     \u001b[38;5;28;01mraise\u001b[39;00m \u001b[38;5;167;01mValueError\u001b[39;00m(\n\u001b[0;32m    281\u001b[0m         \u001b[38;5;124mf\u001b[39m\u001b[38;5;124m\"\u001b[39m\u001b[38;5;124mIPython won\u001b[39m\u001b[38;5;124m'\u001b[39m\u001b[38;5;124mt let you open fd=\u001b[39m\u001b[38;5;132;01m{\u001b[39;00mfile\u001b[38;5;132;01m}\u001b[39;00m\u001b[38;5;124m by default \u001b[39m\u001b[38;5;124m\"\u001b[39m\n\u001b[0;32m    282\u001b[0m         \u001b[38;5;124m\"\u001b[39m\u001b[38;5;124mas it is likely to crash IPython. If you know what you are doing, \u001b[39m\u001b[38;5;124m\"\u001b[39m\n\u001b[0;32m    283\u001b[0m         \u001b[38;5;124m\"\u001b[39m\u001b[38;5;124myou can use builtins\u001b[39m\u001b[38;5;124m'\u001b[39m\u001b[38;5;124m open.\u001b[39m\u001b[38;5;124m\"\u001b[39m\n\u001b[0;32m    284\u001b[0m     )\n\u001b[1;32m--> 286\u001b[0m \u001b[38;5;28;01mreturn\u001b[39;00m io_open(file, \u001b[38;5;241m*\u001b[39margs, \u001b[38;5;241m*\u001b[39m\u001b[38;5;241m*\u001b[39mkwargs)\n",
      "\u001b[1;31mFileNotFoundError\u001b[0m: [Errno 2] No such file or directory: '나없는파일'"
     ]
    }
   ],
   "source": [
    "f = open(\"나없는파일\", 'r')"
   ]
  },
  {
   "cell_type": "markdown",
   "id": "e41f83a2",
   "metadata": {},
   "source": [
    "### '0'으로 다른 숫자를 나누는 경우"
   ]
  },
  {
   "cell_type": "code",
   "execution_count": 76,
   "id": "7c2ff907",
   "metadata": {},
   "outputs": [
    {
     "ename": "ZeroDivisionError",
     "evalue": "division by zero",
     "output_type": "error",
     "traceback": [
      "\u001b[1;31m---------------------------------------------------------------------------\u001b[0m",
      "\u001b[1;31mZeroDivisionError\u001b[0m                         Traceback (most recent call last)",
      "Cell \u001b[1;32mIn[76], line 1\u001b[0m\n\u001b[1;32m----> 1\u001b[0m \u001b[38;5;241m4\u001b[39m \u001b[38;5;241m/\u001b[39m \u001b[38;5;241m0\u001b[39m\n",
      "\u001b[1;31mZeroDivisionError\u001b[0m: division by zero"
     ]
    }
   ],
   "source": [
    "4 / 0"
   ]
  },
  {
   "cell_type": "markdown",
   "id": "55c2044e",
   "metadata": {},
   "source": [
    "### 리스트 인덱싱 에러"
   ]
  },
  {
   "cell_type": "code",
   "execution_count": 77,
   "id": "bdc2520a",
   "metadata": {},
   "outputs": [
    {
     "ename": "IndexError",
     "evalue": "list index out of range",
     "output_type": "error",
     "traceback": [
      "\u001b[1;31m---------------------------------------------------------------------------\u001b[0m",
      "\u001b[1;31mIndexError\u001b[0m                                Traceback (most recent call last)",
      "Cell \u001b[1;32mIn[77], line 2\u001b[0m\n\u001b[0;32m      1\u001b[0m a \u001b[38;5;241m=\u001b[39m [\u001b[38;5;241m1\u001b[39m, \u001b[38;5;241m2\u001b[39m, \u001b[38;5;241m3\u001b[39m]\n\u001b[1;32m----> 2\u001b[0m a[\u001b[38;5;241m3\u001b[39m]\n",
      "\u001b[1;31mIndexError\u001b[0m: list index out of range"
     ]
    }
   ],
   "source": [
    "a = [1, 2, 3]\n",
    "a[3]"
   ]
  },
  {
   "cell_type": "markdown",
   "id": "f6ee699d",
   "metadata": {},
   "source": [
    "## 오류 예외 처리 기법\n",
    "## try-except 문\n",
    "    try:\n",
    "        ...\n",
    "    except [발생오류 [as 오류변수]]:\n",
    "        ...\n"
   ]
  },
  {
   "cell_type": "markdown",
   "id": "0fb14bb9",
   "metadata": {},
   "source": [
    "### try-except만 쓰는 방법"
   ]
  },
  {
   "cell_type": "code",
   "execution_count": 78,
   "id": "bcba4a74",
   "metadata": {},
   "outputs": [],
   "source": [
    "try:\n",
    "    ...\n",
    "except:\n",
    "    ...\n"
   ]
  },
  {
   "cell_type": "markdown",
   "id": "a3460721",
   "metadata": {},
   "source": [
    "### 발생 오류만 포함한 except 문"
   ]
  },
  {
   "cell_type": "code",
   "execution_count": 79,
   "id": "e6cd5df3",
   "metadata": {},
   "outputs": [],
   "source": [
    "try:\n",
    "    ...\n",
    "except 발생오류:\n",
    "    ...\n"
   ]
  },
  {
   "cell_type": "markdown",
   "id": "c0e2d547",
   "metadata": {},
   "source": [
    "### 발생 오류와 오류 변수까지 포함한 except 문 (가장 많이사용)"
   ]
  },
  {
   "cell_type": "code",
   "execution_count": 81,
   "id": "abb3f05f",
   "metadata": {},
   "outputs": [],
   "source": [
    "try:\n",
    "    ...\n",
    "except 발생오류:\n",
    "    ...\n"
   ]
  },
  {
   "cell_type": "code",
   "execution_count": 84,
   "id": "23276ad2",
   "metadata": {},
   "outputs": [
    {
     "ename": "ZeroDivisionError",
     "evalue": "division by zero",
     "output_type": "error",
     "traceback": [
      "\u001b[1;31m---------------------------------------------------------------------------\u001b[0m",
      "\u001b[1;31mZeroDivisionError\u001b[0m                         Traceback (most recent call last)",
      "Cell \u001b[1;32mIn[84], line 1\u001b[0m\n\u001b[1;32m----> 1\u001b[0m \u001b[38;5;241m4\u001b[39m\u001b[38;5;241m/\u001b[39m\u001b[38;5;241m0\u001b[39m\n",
      "\u001b[1;31mZeroDivisionError\u001b[0m: division by zero"
     ]
    }
   ],
   "source": [
    "4/0"
   ]
  },
  {
   "cell_type": "code",
   "execution_count": 83,
   "id": "8a1c0d34",
   "metadata": {},
   "outputs": [
    {
     "name": "stdout",
     "output_type": "stream",
     "text": [
      "error\n"
     ]
    }
   ],
   "source": [
    "try:\n",
    "    4 / 0\n",
    "except:\n",
    "    print('error')"
   ]
  },
  {
   "cell_type": "code",
   "execution_count": 85,
   "id": "45c7db71",
   "metadata": {},
   "outputs": [
    {
     "name": "stdout",
     "output_type": "stream",
     "text": [
      "division by zero\n"
     ]
    }
   ],
   "source": [
    "# 오류 변수 e에 담기는 오류 메시지를 출력할 수 있다\n",
    "try:\n",
    "    4 / 0\n",
    "except ZeroDivisionError as e:\n",
    "    print(e)"
   ]
  },
  {
   "cell_type": "markdown",
   "id": "3a36cef1",
   "metadata": {},
   "source": [
    "## try-finally 문"
   ]
  },
  {
   "cell_type": "markdown",
   "id": "f4d7934f",
   "metadata": {},
   "source": [
    "## 여러 개의 오류 처리하기"
   ]
  },
  {
   "cell_type": "code",
   "execution_count": 87,
   "id": "e7f11052",
   "metadata": {},
   "outputs": [],
   "source": [
    "try:\n",
    "    ...\n",
    "except 발생오류1:\n",
    "   ... \n",
    "except 발생오류2:\n",
    "   ..."
   ]
  },
  {
   "cell_type": "code",
   "execution_count": 89,
   "id": "d5eaa067",
   "metadata": {},
   "outputs": [
    {
     "name": "stdout",
     "output_type": "stream",
     "text": [
      "인덱싱 할 수 없습니다.\n"
     ]
    }
   ],
   "source": [
    "# 인덱싱 오류\n",
    "try:\n",
    "    a = [1,2]\n",
    "    print(a[3])\n",
    "    4/0\n",
    "except ZeroDivisionError:\n",
    "    print(\"0으로 나눌 수 없습니다.\")\n",
    "except IndexError:\n",
    "    print(\"인덱싱 할 수 없습니다.\")"
   ]
  },
  {
   "cell_type": "code",
   "execution_count": 88,
   "id": "cf7b816b",
   "metadata": {},
   "outputs": [
    {
     "name": "stdout",
     "output_type": "stream",
     "text": [
      "list index out of range\n"
     ]
    }
   ],
   "source": [
    "try:\n",
    "    a = [1,2]\n",
    "    print(a[3])\n",
    "    4/0\n",
    "except ZeroDivisionError as e:\n",
    "    print(e)\n",
    "except IndexError as e:\n",
    "    print(e)\n"
   ]
  },
  {
   "cell_type": "code",
   "execution_count": 90,
   "id": "d2dcb6bd",
   "metadata": {},
   "outputs": [
    {
     "name": "stdout",
     "output_type": "stream",
     "text": [
      "list index out of range\n"
     ]
    }
   ],
   "source": [
    "try:\n",
    "    a = [1,2]\n",
    "    print(a[3])\n",
    "    4/0\n",
    "except (ZeroDivisionError, IndexError) as e:\n",
    "    print(e)"
   ]
  },
  {
   "cell_type": "markdown",
   "id": "68b28904",
   "metadata": {},
   "source": [
    "## try-else 문"
   ]
  },
  {
   "cell_type": "code",
   "execution_count": null,
   "id": "a8b3075f",
   "metadata": {},
   "outputs": [],
   "source": [
    "try:\n",
    "    ...\n",
    "except [발생오류 [as 오류변수]]:\n",
    "    ...\n",
    "else:  # 오류가 없을 경우에만 수행\n",
    "    ..."
   ]
  },
  {
   "cell_type": "code",
   "execution_count": 92,
   "id": "f5637922",
   "metadata": {},
   "outputs": [
    {
     "name": "stdout",
     "output_type": "stream",
     "text": [
      "나이를 입력하세요: 28\n",
      "환영합니다.\n"
     ]
    }
   ],
   "source": [
    "try:\n",
    "    age=int(input('나이를 입력하세요: '))\n",
    "except:\n",
    "    print('입력이 정확하지 않습니다.')\n",
    "else:\n",
    "    if age <= 18:\n",
    "        print('미성년자는 출입금지입니다.')\n",
    "    else:\n",
    "        print('환영합니다.')"
   ]
  },
  {
   "cell_type": "markdown",
   "id": "27129824",
   "metadata": {},
   "source": [
    "## 오류 회피하기"
   ]
  },
  {
   "cell_type": "code",
   "execution_count": 93,
   "id": "d59c07b5",
   "metadata": {},
   "outputs": [],
   "source": [
    "# 에러를 pass처리하여 회피\n",
    "try:\n",
    "    f = open(\"나없는파일\", 'r')\n",
    "except FileNotFoundError:\n",
    "    pass"
   ]
  },
  {
   "cell_type": "markdown",
   "id": "40a7e137",
   "metadata": {},
   "source": []
  },
  {
   "cell_type": "markdown",
   "id": "aca12549",
   "metadata": {},
   "source": []
  },
  {
   "cell_type": "code",
   "execution_count": null,
   "id": "e01517d5",
   "metadata": {},
   "outputs": [],
   "source": []
  },
  {
   "cell_type": "code",
   "execution_count": null,
   "id": "17e89be8",
   "metadata": {},
   "outputs": [],
   "source": []
  },
  {
   "cell_type": "code",
   "execution_count": null,
   "id": "f6d640b8",
   "metadata": {},
   "outputs": [],
   "source": []
  },
  {
   "cell_type": "code",
   "execution_count": null,
   "id": "876972c7",
   "metadata": {},
   "outputs": [],
   "source": []
  },
  {
   "cell_type": "code",
   "execution_count": null,
   "id": "ef1c7904",
   "metadata": {},
   "outputs": [],
   "source": []
  },
  {
   "cell_type": "code",
   "execution_count": null,
   "id": "31486f23",
   "metadata": {},
   "outputs": [],
   "source": []
  },
  {
   "cell_type": "code",
   "execution_count": null,
   "id": "61ee5063",
   "metadata": {},
   "outputs": [],
   "source": []
  },
  {
   "cell_type": "code",
   "execution_count": null,
   "id": "7b40493c",
   "metadata": {},
   "outputs": [],
   "source": []
  },
  {
   "cell_type": "code",
   "execution_count": null,
   "id": "61a15646",
   "metadata": {},
   "outputs": [],
   "source": []
  },
  {
   "cell_type": "code",
   "execution_count": null,
   "id": "3736be8a",
   "metadata": {},
   "outputs": [],
   "source": []
  },
  {
   "cell_type": "code",
   "execution_count": null,
   "id": "cbe46f8a",
   "metadata": {},
   "outputs": [],
   "source": []
  },
  {
   "cell_type": "code",
   "execution_count": null,
   "id": "fdee278e",
   "metadata": {},
   "outputs": [],
   "source": []
  },
  {
   "cell_type": "code",
   "execution_count": null,
   "id": "4dd132ba",
   "metadata": {},
   "outputs": [],
   "source": []
  },
  {
   "cell_type": "code",
   "execution_count": null,
   "id": "5bfc0797",
   "metadata": {},
   "outputs": [],
   "source": []
  },
  {
   "cell_type": "code",
   "execution_count": null,
   "id": "a33fbbf8",
   "metadata": {},
   "outputs": [],
   "source": []
  },
  {
   "cell_type": "code",
   "execution_count": null,
   "id": "2e0edf46",
   "metadata": {},
   "outputs": [],
   "source": []
  },
  {
   "cell_type": "code",
   "execution_count": null,
   "id": "73b44f8b",
   "metadata": {},
   "outputs": [],
   "source": []
  },
  {
   "cell_type": "code",
   "execution_count": null,
   "id": "d21e8a98",
   "metadata": {},
   "outputs": [],
   "source": []
  },
  {
   "cell_type": "code",
   "execution_count": null,
   "id": "aa848bea",
   "metadata": {},
   "outputs": [],
   "source": []
  },
  {
   "cell_type": "code",
   "execution_count": null,
   "id": "db1c1d08",
   "metadata": {},
   "outputs": [],
   "source": []
  },
  {
   "cell_type": "code",
   "execution_count": null,
   "id": "ef39d998",
   "metadata": {},
   "outputs": [],
   "source": []
  },
  {
   "cell_type": "code",
   "execution_count": null,
   "id": "2ec845d0",
   "metadata": {},
   "outputs": [],
   "source": []
  },
  {
   "cell_type": "code",
   "execution_count": null,
   "id": "c078055b",
   "metadata": {},
   "outputs": [],
   "source": []
  },
  {
   "cell_type": "code",
   "execution_count": null,
   "id": "fc687379",
   "metadata": {},
   "outputs": [],
   "source": []
  },
  {
   "cell_type": "code",
   "execution_count": null,
   "id": "a5af6d4d",
   "metadata": {},
   "outputs": [],
   "source": []
  }
 ],
 "metadata": {
  "kernelspec": {
   "display_name": "Python 3 (ipykernel)",
   "language": "python",
   "name": "python3"
  },
  "language_info": {
   "codemirror_mode": {
    "name": "ipython",
    "version": 3
   },
   "file_extension": ".py",
   "mimetype": "text/x-python",
   "name": "python",
   "nbconvert_exporter": "python",
   "pygments_lexer": "ipython3",
   "version": "3.11.5"
  }
 },
 "nbformat": 4,
 "nbformat_minor": 5
}
