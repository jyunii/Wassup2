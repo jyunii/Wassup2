{
 "cells": [
  {
   "cell_type": "markdown",
   "id": "74e04c4d",
   "metadata": {},
   "source": [
    "# IF문"
   ]
  },
  {
   "cell_type": "markdown",
   "id": "eb25da95",
   "metadata": {},
   "source": [
    "### if 만약에 ~한다면\n",
    "### print (~해라)\n",
    "### else 아니면 \n",
    "### print (~해라)\n",
    "#### tap으로 들여쓰기"
   ]
  },
  {
   "cell_type": "code",
   "execution_count": 1,
   "id": "8acde4ad",
   "metadata": {},
   "outputs": [
    {
     "name": "stdout",
     "output_type": "stream",
     "text": [
      "택시를 타고 가라\n"
     ]
    }
   ],
   "source": [
    "money = True\n",
    "if money:\n",
    "     print(\"택시를 타고 가라\")\n",
    "else:\n",
    "     print(\"걸어 가라\")"
   ]
  },
  {
   "cell_type": "markdown",
   "id": "895e41b3",
   "metadata": {},
   "source": [
    "## if 조건문:\n",
    "    수행할_문장1\n",
    "    수행할_문장2\n",
    "    수행할_문장3\n",
    "### 하나의 블록에 수행할 문장들은 무조건 들여쓰기해야한다\n",
    "    [if 블록] / [else 블록]"
   ]
  },
  {
   "cell_type": "code",
   "execution_count": 2,
   "id": "a72439c4",
   "metadata": {},
   "outputs": [
    {
     "ename": "IndentationError",
     "evalue": "unexpected indent (1841204671.py, line 5)",
     "output_type": "error",
     "traceback": [
      "\u001b[1;36m  Cell \u001b[1;32mIn[2], line 5\u001b[1;36m\u001b[0m\n\u001b[1;33m    print(\"가라\")\u001b[0m\n\u001b[1;37m    ^\u001b[0m\n\u001b[1;31mIndentationError\u001b[0m\u001b[1;31m:\u001b[0m unexpected indent\n"
     ]
    }
   ],
   "source": [
    "money = True\n",
    "if money:\n",
    "    print(\"택시를\")\n",
    "print(\"타고\")\n",
    "    print(\"가라\")"
   ]
  },
  {
   "cell_type": "code",
   "execution_count": 3,
   "id": "2ccdc2e5",
   "metadata": {},
   "outputs": [
    {
     "ename": "IndentationError",
     "evalue": "unexpected indent (73570325.py, line 5)",
     "output_type": "error",
     "traceback": [
      "\u001b[1;36m  Cell \u001b[1;32mIn[3], line 5\u001b[1;36m\u001b[0m\n\u001b[1;33m    print(\"가라\")\u001b[0m\n\u001b[1;37m    ^\u001b[0m\n\u001b[1;31mIndentationError\u001b[0m\u001b[1;31m:\u001b[0m unexpected indent\n"
     ]
    }
   ],
   "source": [
    "money = True\n",
    "if money:\n",
    "    print(\"택시를\")\n",
    "    print(\"타고\")\n",
    "        print(\"가라\")"
   ]
  },
  {
   "cell_type": "markdown",
   "id": "3c5e1d11",
   "metadata": {},
   "source": [
    "## > 조건문 다음에 콜론(:)을 잊지 말자!\n",
    "## if 조건문에서 ‘조건문’이란 참과 거짓을 판단하는 문장"
   ]
  },
  {
   "cell_type": "code",
   "execution_count": 4,
   "id": "d1d5370d",
   "metadata": {},
   "outputs": [
    {
     "data": {
      "text/plain": [
       "True"
      ]
     },
     "execution_count": 4,
     "metadata": {},
     "output_type": "execute_result"
    }
   ],
   "source": [
    "x = 3\n",
    "y = 2\n",
    "x > y"
   ]
  },
  {
   "cell_type": "code",
   "execution_count": 5,
   "id": "97e454be",
   "metadata": {},
   "outputs": [
    {
     "data": {
      "text/plain": [
       "False"
      ]
     },
     "execution_count": 5,
     "metadata": {},
     "output_type": "execute_result"
    }
   ],
   "source": [
    "x < y"
   ]
  },
  {
   "cell_type": "markdown",
   "id": "ea16a692",
   "metadata": {},
   "source": [
    "### 만약 3000원 이상의 돈을 가지고 있으면 택시를 타고 가고, 그렇지 않으면 걸어가라.\n",
    "### 돈이 얼마나 있는지 변수로 만들어 준다"
   ]
  },
  {
   "cell_type": "code",
   "execution_count": 9,
   "id": "3dee2cb6",
   "metadata": {},
   "outputs": [
    {
     "name": "stdout",
     "output_type": "stream",
     "text": [
      "택시를 타고가라\n"
     ]
    }
   ],
   "source": [
    "money = 3000\n",
    "\n",
    "if money >= 3000:\n",
    "    print(\"택시를 타고가라\")\n",
    "else:\n",
    "    print(\"걸어가라\")"
   ]
  },
  {
   "cell_type": "markdown",
   "id": "9945c5b1",
   "metadata": {},
   "source": [
    "## and, or, not\n",
    "### 돈이 3000원 이상 있거나 카드가 있다면 택시를 타고 가고, 그렇지 않으면 걸어가라.\n",
    "### 돈이 얼마가 있는지와 카드가 있다는 것을 변수로 달아준다"
   ]
  },
  {
   "cell_type": "code",
   "execution_count": 11,
   "id": "9b8dac68",
   "metadata": {},
   "outputs": [
    {
     "name": "stdout",
     "output_type": "stream",
     "text": [
      "택시를 타고가라\n"
     ]
    }
   ],
   "source": [
    "money = 3000\n",
    "card = True\n",
    "\n",
    "if money >= 3000 or card:\n",
    "    print(\"택시를 타고가라\")\n",
    "else:\n",
    "    print(\"걸어가라\")"
   ]
  },
  {
   "cell_type": "markdown",
   "id": "e592023b",
   "metadata": {},
   "source": [
    "## in, not in"
   ]
  },
  {
   "cell_type": "code",
   "execution_count": 12,
   "id": "84f138b7",
   "metadata": {},
   "outputs": [
    {
     "data": {
      "text/plain": [
       "True"
      ]
     },
     "execution_count": 12,
     "metadata": {},
     "output_type": "execute_result"
    }
   ],
   "source": [
    "1 in [1, 2, 3]"
   ]
  },
  {
   "cell_type": "code",
   "execution_count": 13,
   "id": "affe402b",
   "metadata": {},
   "outputs": [
    {
     "data": {
      "text/plain": [
       "False"
      ]
     },
     "execution_count": 13,
     "metadata": {},
     "output_type": "execute_result"
    }
   ],
   "source": [
    "1 not in [1, 2, 3]"
   ]
  },
  {
   "cell_type": "code",
   "execution_count": 14,
   "id": "18708e8e",
   "metadata": {},
   "outputs": [
    {
     "data": {
      "text/plain": [
       "True"
      ]
     },
     "execution_count": 14,
     "metadata": {},
     "output_type": "execute_result"
    }
   ],
   "source": [
    "'a' in ('a', 'b', 'c')"
   ]
  },
  {
   "cell_type": "code",
   "execution_count": 15,
   "id": "d039ce7f",
   "metadata": {},
   "outputs": [
    {
     "data": {
      "text/plain": [
       "True"
      ]
     },
     "execution_count": 15,
     "metadata": {},
     "output_type": "execute_result"
    }
   ],
   "source": [
    "'j' not in 'python'"
   ]
  },
  {
   "cell_type": "markdown",
   "id": "a58db297",
   "metadata": {},
   "source": [
    "### 만약 주머니에 돈이 있으면 택시를 타고 가고, 없으면 걸어가라.\n",
    "### 주머니에 돈이 있다는 것을 조건문으로..."
   ]
  },
  {
   "cell_type": "code",
   "execution_count": 17,
   "id": "2beb1259",
   "metadata": {},
   "outputs": [
    {
     "name": "stdout",
     "output_type": "stream",
     "text": [
      "걸어가라\n"
     ]
    }
   ],
   "source": [
    "pocket = ['paper', 'cellphone', 'money']\n",
    "\n",
    "if money in pocket:\n",
    "    print(\"택시를 타고가라\")\n",
    "else:\n",
    "    print(\"걸어가라\")"
   ]
  },
  {
   "cell_type": "markdown",
   "id": "d67696f7",
   "metadata": {},
   "source": [
    "### 조건문에서 아무것도 하고싶지 않다면?\n",
    "### 주머니에 돈이 있으면 가만히 있고, 주머니에 돈이 없으면 카드를 꺼내라\n",
    "### pass를 사용하자!"
   ]
  },
  {
   "cell_type": "code",
   "execution_count": 18,
   "id": "0d184389",
   "metadata": {},
   "outputs": [
    {
     "name": "stdout",
     "output_type": "stream",
     "text": [
      "카드를 꺼내라\n"
     ]
    }
   ],
   "source": [
    "pocket = ['paper', 'cellphone', 'money']\n",
    "\n",
    "if money in pocket:\n",
    "    pass\n",
    "else:\n",
    "    print(\"카드를 꺼내라\")"
   ]
  },
  {
   "cell_type": "markdown",
   "id": "3b806581",
   "metadata": {},
   "source": [
    "## 다양한 조건을 판단하는 elif\n",
    "### 주머니에 돈이 있으면 택시를 타고 가고, \n",
    "### 주머니에 돈은 없지만 카드가 있으면 택시를 타고 가고, \n",
    "### 돈도 없고 카드도 없으면 걸어가라."
   ]
  },
  {
   "cell_type": "markdown",
   "id": "534a35e5",
   "metadata": {},
   "source": [
    "#### if 조건문:\n",
    "    수행할_문장1 \n",
    "    수행할_문장2\n",
    "    ...\n",
    "#### elif 조건문:\n",
    "    수행할_문장1\n",
    "    수행할_문장2\n",
    "    ...\n",
    "#### elif 조건문:\n",
    "    수행할_문장1\n",
    "    수행할_문장2\n",
    "    ...\n",
    "#### else:\n",
    "   수행할_문장1\n",
    "   수행할_문장2\n",
    "   ... "
   ]
  },
  {
   "cell_type": "code",
   "execution_count": 20,
   "id": "d282beaa",
   "metadata": {},
   "outputs": [
    {
     "name": "stdout",
     "output_type": "stream",
     "text": [
      "택시를 타고가렴\n"
     ]
    }
   ],
   "source": [
    "## 원래 조건문 사용\n",
    "\n",
    "pocket = ['paper', 'cellphone', 'money']\n",
    "card = True\n",
    "\n",
    "if money in pocket:\n",
    "    print(\"택시를 타고가렴\")\n",
    "else:\n",
    "    if card:\n",
    "        print(\"택시를 타고가렴\")\n",
    "    else:\n",
    "        print(\"걸어가렴\")"
   ]
  },
  {
   "cell_type": "code",
   "execution_count": 29,
   "id": "0f2f166b",
   "metadata": {},
   "outputs": [
    {
     "name": "stdout",
     "output_type": "stream",
     "text": [
      "택시를 타고가렴\n"
     ]
    }
   ],
   "source": [
    "## elif 조건문 사용\n",
    "\n",
    "pocket = ['paper', 'cellphone', 'money']\n",
    "card = True\n",
    "\n",
    "if money in pocket:\n",
    "    print(\"택시를 타고가렴\")\n",
    "elif card:\n",
    "        print(\"택시를 타고가렴\")\n",
    "else:\n",
    "        print(\"걸어가렴\")"
   ]
  },
  {
   "cell_type": "markdown",
   "id": "920673b8",
   "metadata": {},
   "source": [
    "## 조건부 표현식\n",
    "### 변수 = 조건문이_참인_경우의_값 if 조건문 else 조건문이_거짓인_경우의_값"
   ]
  },
  {
   "cell_type": "code",
   "execution_count": 30,
   "id": "9b34ce14",
   "metadata": {},
   "outputs": [],
   "source": [
    "score = 60\n",
    "\n",
    "if score >= 60:\n",
    "    message = \"success\"\n",
    "else:\n",
    "    message = \"failure\""
   ]
  },
  {
   "cell_type": "markdown",
   "id": "eb5e66b8",
   "metadata": {},
   "source": []
  },
  {
   "cell_type": "markdown",
   "id": "f857bfad",
   "metadata": {},
   "source": [
    "# while문\n",
    "### 범위를 모를 때 주로 사용\n",
    "### 문장을 반복해서 수행해야 할 경우에 사용\n",
    "### while 문은 조건문이 참인 동안 while 문에 속한 문장들이 반복해서 수행\n",
    "### while 조건문:\n",
    "    수행할_문장1\n",
    "    수행할_문장2\n",
    "    수행할_문장3\n",
    "    ..."
   ]
  },
  {
   "cell_type": "markdown",
   "id": "347adff8",
   "metadata": {},
   "source": [
    "### '열 번 찍어 안 넘어가는 나무 없다'\n",
    "### +1 라는 증감 표시를 항상 적어야한다"
   ]
  },
  {
   "cell_type": "code",
   "execution_count": 43,
   "id": "5e4c40d8",
   "metadata": {},
   "outputs": [
    {
     "name": "stdout",
     "output_type": "stream",
     "text": [
      "나무를 1번 찍었습니다.\n",
      "나무를 2번 찍었습니다.\n",
      "나무를 3번 찍었습니다.\n",
      "나무를 4번 찍었습니다.\n",
      "나무를 5번 찍었습니다.\n",
      "나무를 6번 찍었습니다.\n",
      "나무를 7번 찍었습니다.\n",
      "나무를 8번 찍었습니다.\n",
      "나무를 9번 찍었습니다.\n",
      "나무를 10번 찍었습니다.\n",
      "나무 넘어갑니다.\n"
     ]
    }
   ],
   "source": [
    "treeHit = 0\n",
    "\n",
    "while treeHit < 10:\n",
    "    treeHit = treeHit +1\n",
    "    print(\"나무를 %d번 찍었습니다.\" % treeHit)\n",
    "    \n",
    "    if treeHit == 10:\n",
    "         print(\"나무 넘어갑니다.\")"
   ]
  },
  {
   "cell_type": "code",
   "execution_count": 44,
   "id": "8a0a9ef6",
   "metadata": {},
   "outputs": [],
   "source": [
    "prompt = \"\"\"\n",
    " 1. Add\n",
    " 2. Del\n",
    " 3. List\n",
    " 4. Quit\n",
    "\n",
    " Enter number: \"\"\""
   ]
  },
  {
   "cell_type": "code",
   "execution_count": 47,
   "id": "c34cf358",
   "metadata": {},
   "outputs": [
    {
     "name": "stdout",
     "output_type": "stream",
     "text": [
      "\n",
      " 1. Add\n",
      " 2. Del\n",
      " 3. List\n",
      " 4. Quit\n",
      "\n",
      " Enter number: \n",
      "4\n"
     ]
    }
   ],
   "source": [
    "number = 0\n",
    "while number != 4:\n",
    "     print(prompt)\n",
    "     number = int(input())"
   ]
  },
  {
   "cell_type": "markdown",
   "id": "70c5f69b",
   "metadata": {},
   "source": [
    "## while 문 강제로 빠져나가기\n",
    "### break 문을 사용하여 강제로 중단"
   ]
  },
  {
   "cell_type": "code",
   "execution_count": 49,
   "id": "a89efdee",
   "metadata": {},
   "outputs": [
    {
     "name": "stdout",
     "output_type": "stream",
     "text": [
      "돈을 받았으니 커피를 줍니다.\n",
      "남은 커피의 양은 9개입니다.\n",
      "돈을 받았으니 커피를 줍니다.\n",
      "남은 커피의 양은 8개입니다.\n",
      "돈을 받았으니 커피를 줍니다.\n",
      "남은 커피의 양은 7개입니다.\n",
      "돈을 받았으니 커피를 줍니다.\n",
      "남은 커피의 양은 6개입니다.\n",
      "돈을 받았으니 커피를 줍니다.\n",
      "남은 커피의 양은 5개입니다.\n",
      "돈을 받았으니 커피를 줍니다.\n",
      "남은 커피의 양은 4개입니다.\n",
      "돈을 받았으니 커피를 줍니다.\n",
      "남은 커피의 양은 3개입니다.\n",
      "돈을 받았으니 커피를 줍니다.\n",
      "남은 커피의 양은 2개입니다.\n",
      "돈을 받았으니 커피를 줍니다.\n",
      "남은 커피의 양은 1개입니다.\n",
      "돈을 받았으니 커피를 줍니다.\n",
      "남은 커피의 양은 0개입니다.\n",
      "커피가 다 떨어졌습니다. 판매를 중지합니다.\n"
     ]
    }
   ],
   "source": [
    "coffee = 10\n",
    "money = True\n",
    "\n",
    "while money:\n",
    "     print(\"돈을 받았으니 커피를 줍니다.\")\n",
    "     coffee = coffee -1\n",
    "     print(\"남은 커피의 양은 %d개입니다.\" % coffee)\n",
    "     if coffee == 0:\n",
    "         print(\"커피가 다 떨어졌습니다. 판매를 중지합니다.\")\n",
    "         break"
   ]
  },
  {
   "cell_type": "code",
   "execution_count": 53,
   "id": "c552b90a",
   "metadata": {},
   "outputs": [
    {
     "name": "stdout",
     "output_type": "stream",
     "text": [
      "돈을 넣어 주세요: 300\n",
      "커피를 줍니다.\n",
      "남은 커피의 양은 9개 입니다.\n",
      "돈을 넣어 주세요: 24\n",
      "돈을 다시 돌려주고 커피를 주지 않습니다.\n",
      "남은 커피의 양은 9개 입니다.\n",
      "돈을 넣어 주세요: 455\n",
      "거스름돈 155를 주고 커피를 줍니다.\n",
      "남은 커피의 양은 8개 입니다.\n",
      "돈을 넣어 주세요: 300\n",
      "커피를 줍니다.\n",
      "남은 커피의 양은 7개 입니다.\n",
      "돈을 넣어 주세요: 344\n",
      "거스름돈 44를 주고 커피를 줍니다.\n",
      "남은 커피의 양은 6개 입니다.\n",
      "돈을 넣어 주세요: 233\n",
      "돈을 다시 돌려주고 커피를 주지 않습니다.\n",
      "남은 커피의 양은 6개 입니다.\n",
      "돈을 넣어 주세요: 23\n",
      "돈을 다시 돌려주고 커피를 주지 않습니다.\n",
      "남은 커피의 양은 6개 입니다.\n",
      "돈을 넣어 주세요: 300\n",
      "커피를 줍니다.\n",
      "남은 커피의 양은 5개 입니다.\n",
      "돈을 넣어 주세요: 300\n",
      "커피를 줍니다.\n",
      "남은 커피의 양은 4개 입니다.\n",
      "돈을 넣어 주세요: 300\n",
      "커피를 줍니다.\n",
      "남은 커피의 양은 3개 입니다.\n",
      "돈을 넣어 주세요: 30\n",
      "돈을 다시 돌려주고 커피를 주지 않습니다.\n",
      "남은 커피의 양은 3개 입니다.\n",
      "돈을 넣어 주세요: 300\n",
      "커피를 줍니다.\n",
      "남은 커피의 양은 2개 입니다.\n",
      "돈을 넣어 주세요: 300\n",
      "커피를 줍니다.\n",
      "남은 커피의 양은 1개 입니다.\n",
      "돈을 넣어 주세요: 300\n",
      "커피를 줍니다.\n",
      "남은 커피의 양은 0개 입니다.\n",
      "커피가 다 떨어졌습니다. 판매를 중지 합니다.\n"
     ]
    }
   ],
   "source": [
    "coffee = 10\n",
    "\n",
    "while True:\n",
    "    money = int(input(\"돈을 넣어 주세요: \"))\n",
    "    if money == 300:\n",
    "        print(\"커피를 줍니다.\")\n",
    "        coffee = coffee -1\n",
    "        print(\"남은 커피의 양은 %d개 입니다.\" % coffee)\n",
    "    elif money > 300:\n",
    "        print(\"거스름돈 %d를 주고 커피를 줍니다.\" % (money -300))\n",
    "        coffee = coffee -1\n",
    "        print(\"남은 커피의 양은 %d개 입니다.\" % coffee)\n",
    "    else:\n",
    "        print(\"돈을 다시 돌려주고 커피를 주지 않습니다.\")\n",
    "        print(\"남은 커피의 양은 %d개 입니다.\" % coffee)\n",
    "    if coffee == 0:\n",
    "        print(\"커피가 다 떨어졌습니다. 판매를 중지 합니다.\")\n",
    "        break"
   ]
  },
  {
   "cell_type": "markdown",
   "id": "688f4722",
   "metadata": {},
   "source": [
    "## while 문의 맨 처음으로 돌아가기\n",
    "### continue 문 사용"
   ]
  },
  {
   "cell_type": "code",
   "execution_count": 54,
   "id": "89102b47",
   "metadata": {},
   "outputs": [
    {
     "name": "stdout",
     "output_type": "stream",
     "text": [
      "1\n",
      "3\n",
      "5\n",
      "7\n",
      "9\n"
     ]
    }
   ],
   "source": [
    "a = 0\n",
    "\n",
    "while a < 10:\n",
    "     a = a + 1\n",
    "     if a % 2 == 0: continue  # '%'는 나머지\n",
    "     print(a)"
   ]
  },
  {
   "cell_type": "markdown",
   "id": "3c7bd416",
   "metadata": {},
   "source": [
    "## 무한 루프\n",
    "### while 문의 조건문이 True이므로 항상 참으로 설정\n",
    "### while True: \n",
    "    수행할_문장1 \n",
    "    수행할_문장2\n",
    "    ..."
   ]
  },
  {
   "cell_type": "code",
   "execution_count": 56,
   "id": "78682de6",
   "metadata": {},
   "outputs": [
    {
     "ename": "SyntaxError",
     "evalue": "invalid syntax (975328802.py, line 5)",
     "output_type": "error",
     "traceback": [
      "\u001b[1;36m  Cell \u001b[1;32mIn[56], line 5\u001b[1;36m\u001b[0m\n\u001b[1;33m    Ctrl+C를 눌러야 while문을 빠져나갈 수 있습니다.\u001b[0m\n\u001b[1;37m            ^\u001b[0m\n\u001b[1;31mSyntaxError\u001b[0m\u001b[1;31m:\u001b[0m invalid syntax\n"
     ]
    }
   ],
   "source": [
    "while True:\n",
    "     print(\"Ctrl+C를 눌러야 while문을 빠져나갈 수 있습니다.\")\n",
    "\n",
    "## 밑에 문장들이 계속해서 반복 됨\n",
    "Ctrl+C를 눌러야 while문을 빠져나갈 수 있습니다.\n",
    "Ctrl+C를 눌러야 while문을 빠져나갈 수 있습니다.\n",
    "Ctrl+C를 눌러야 while문을 빠져나갈 수 있습니다.        "
   ]
  },
  {
   "cell_type": "markdown",
   "id": "a9719aae",
   "metadata": {},
   "source": []
  },
  {
   "cell_type": "markdown",
   "id": "afb3fede",
   "metadata": {},
   "source": [
    "# for문 (반복문)\n",
    "### 문장 구조가 한눈에 들어온다는 장점\n",
    "### for 변수 in 리스트(또는 튜플, 문자열):\n",
    "    수행할_문장1\n",
    "    수행할_문장2\n",
    "    ..."
   ]
  },
  {
   "cell_type": "markdown",
   "id": "abcc0758",
   "metadata": {},
   "source": [
    "### 이터러블 객체\n",
    "    멤버들을 한 번에 하나씩 돌려줄 수 있는 객체\n",
    "    보통은 순서(인덱스)를 가지는 시퀀스 형 객체를 포함\n",
    "    순서가 있는 시퀀스 이터러블: list, str, tuple\n",
    "    순서가 없는 이터러블 : dict\n",
    "    이터러블은 for 루프에 주로 사용"
   ]
  },
  {
   "cell_type": "code",
   "execution_count": 57,
   "id": "289f167f",
   "metadata": {
    "scrolled": true
   },
   "outputs": [
    {
     "name": "stdout",
     "output_type": "stream",
     "text": [
      "one\n",
      "two\n",
      "three\n"
     ]
    }
   ],
   "source": [
    "test_list = ['one', 'two', 'three']\n",
    "\n",
    "for i in test_list: \n",
    "     print(i)"
   ]
  },
  {
   "cell_type": "code",
   "execution_count": 60,
   "id": "40777c91",
   "metadata": {},
   "outputs": [
    {
     "name": "stdout",
     "output_type": "stream",
     "text": [
      "(1, 2)\n",
      "(3, 4)\n",
      "(5, 6)\n"
     ]
    }
   ],
   "source": [
    "a = [(1,2), (3,4), (5,6)]\n",
    "\n",
    "for i in a:\n",
    "    print(i)"
   ]
  },
  {
   "cell_type": "code",
   "execution_count": 58,
   "id": "8065dc47",
   "metadata": {},
   "outputs": [
    {
     "name": "stdout",
     "output_type": "stream",
     "text": [
      "3\n",
      "7\n",
      "11\n"
     ]
    }
   ],
   "source": [
    "a = [(1,2), (3,4), (5,6)]\n",
    "\n",
    "for (first, last) in a:\n",
    "     print(first + last)"
   ]
  },
  {
   "cell_type": "markdown",
   "id": "cebc0e9c",
   "metadata": {},
   "source": [
    "#### 총 5명의 학생이 시험을 보았는데 시험 점수가 60점 이상이면 합격이고\n",
    "#### 그렇지 않으면 불합격이다. \n",
    "#### 합격인지, 불합격인지 결과를 보여 주시오."
   ]
  },
  {
   "cell_type": "code",
   "execution_count": 120,
   "id": "84d76682",
   "metadata": {},
   "outputs": [],
   "source": [
    "scores = [90, 25, 67, 45, 80]"
   ]
  },
  {
   "cell_type": "code",
   "execution_count": 122,
   "id": "6903c24f",
   "metadata": {},
   "outputs": [
    {
     "name": "stdout",
     "output_type": "stream",
     "text": [
      "1 90\n",
      " 1번 학생의 점수는 90이므로 합격입니다.\n",
      "2 25\n",
      " 2번 학생의 점수는 25이므로 불합격입니다.\n",
      "3 67\n",
      " 3번 학생의 점수는 67이므로 합격입니다.\n",
      "4 45\n",
      " 4번 학생의 점수는 45이므로 불합격입니다.\n",
      "5 80\n",
      " 5번 학생의 점수는 80이므로 합격입니다.\n"
     ]
    }
   ],
   "source": [
    "number = 0\n",
    "\n",
    "for i in scores:\n",
    "    number += 1\n",
    "    print(number, i)\n",
    "    \n",
    "    if i >= 60: #True\n",
    "        print(f' {number}번 학생의 점수는 {i}이므로 합격입니다.')\n",
    "        \n",
    "    else: #False\n",
    "        print(f' {number}번 학생의 점수는 {i}이므로 불합격입니다.')"
   ]
  },
  {
   "cell_type": "code",
   "execution_count": 79,
   "id": "abf10d40",
   "metadata": {},
   "outputs": [
    {
     "name": "stdout",
     "output_type": "stream",
     "text": [
      "1번 학생은 합격입니다.\n",
      "2번 학생은 불합격입니다.\n",
      "3번 학생은 합격입니다.\n",
      "4번 학생은 불합격입니다.\n",
      "5번 학생은 합격입니다.\n"
     ]
    }
   ],
   "source": [
    "scores = [90, 25, 67, 45, 80]   # 학생들의 시험 점수 리스트\n",
    "\n",
    "number = 0   # 학생에게 붙여 줄 번호\n",
    "for scores in scores:   # 90, 25, 67, 45, 80을 순서대로 mark에 대입\n",
    "    number = number +1 \n",
    "    if scores >= 60: \n",
    "        print(\"%d번 학생은 합격입니다.\" % number)\n",
    "    else: \n",
    "        print(\"%d번 학생은 불합격입니다.\" % number)"
   ]
  },
  {
   "cell_type": "markdown",
   "id": "cf6b3845",
   "metadata": {},
   "source": [
    " ## continue 문\n",
    " ####  60점 이상인 사람에게는 축하 메시지를 보내고 나머지 사람에게는 아무런 메시지도 전하지 않는 프로그램"
   ]
  },
  {
   "cell_type": "code",
   "execution_count": 84,
   "id": "ae2067b0",
   "metadata": {},
   "outputs": [
    {
     "name": "stdout",
     "output_type": "stream",
     "text": [
      "1번 학생 축하합니다. 합격입니다. \n",
      "3번 학생 축하합니다. 합격입니다. \n",
      "5번 학생 축하합니다. 합격입니다. \n"
     ]
    }
   ],
   "source": [
    "marks = [90, 25, 67, 45, 80]\n",
    "\n",
    "number = 0 \n",
    "for mark in marks: \n",
    "    number = number +1 \n",
    "    if mark < 60:\n",
    "        continue \n",
    "    print(\"%d번 학생 축하합니다. 합격입니다. \" % number)"
   ]
  },
  {
   "cell_type": "markdown",
   "id": "0c055262",
   "metadata": {},
   "source": [
    "## range 함수\n",
    "### 숫자 리스트를 자동으로 만들어 주는 (범위를 설정)"
   ]
  },
  {
   "cell_type": "code",
   "execution_count": 86,
   "id": "915bad6c",
   "metadata": {},
   "outputs": [
    {
     "data": {
      "text/plain": [
       "range(0, 10)"
      ]
     },
     "execution_count": 86,
     "metadata": {},
     "output_type": "execute_result"
    }
   ],
   "source": [
    "a = range(10)\n",
    "a"
   ]
  },
  {
   "cell_type": "code",
   "execution_count": 88,
   "id": "05715ed4",
   "metadata": {},
   "outputs": [
    {
     "name": "stdout",
     "output_type": "stream",
     "text": [
      "1\n",
      "2\n",
      "3\n",
      "4\n",
      "5\n",
      "6\n",
      "7\n",
      "8\n",
      "9\n",
      "10\n",
      "55\n"
     ]
    }
   ],
   "source": [
    "add = 0 \n",
    "for i in range(1, 11): \n",
    "    print(i)\n",
    "    add = add + i \n",
    "print(add)"
   ]
  },
  {
   "cell_type": "code",
   "execution_count": 89,
   "id": "71f47902",
   "metadata": {},
   "outputs": [
    {
     "name": "stdout",
     "output_type": "stream",
     "text": [
      "55\n"
     ]
    }
   ],
   "source": [
    "add = 0 \n",
    "for i in range(1, 11): \n",
    "    add = add + i \n",
    "print(add)"
   ]
  },
  {
   "cell_type": "code",
   "execution_count": 90,
   "id": "bfb783c4",
   "metadata": {},
   "outputs": [
    {
     "name": "stdout",
     "output_type": "stream",
     "text": [
      "1번 학생 축하합니다. 합격입니다.\n",
      "3번 학생 축하합니다. 합격입니다.\n",
      "5번 학생 축하합니다. 합격입니다.\n"
     ]
    }
   ],
   "source": [
    "marks = [90, 25, 67, 45, 80]\n",
    "\n",
    "for number in range(len(marks)):\n",
    "    if marks[number] < 60: \n",
    "        continue\n",
    "    print(\"%d번 학생 축하합니다. 합격입니다.\" % (number+1))"
   ]
  },
  {
   "cell_type": "markdown",
   "id": "76125324",
   "metadata": {},
   "source": [
    "# for와 range를 이용한 구구단\n",
    "## 구구단 만들기\n",
    "### print 문의 end 매개변수에는 줄바꿈 문자(\\n)가 기본값으로 설정\n",
    "### print('')는 2단, 3단 등을 구분하기 위해 사용\n",
    "#### 이중 for문 > 반복을 두번 해야함 (2-9단까지, 그것들을 1-10까지 곱하기)"
   ]
  },
  {
   "cell_type": "code",
   "execution_count": 128,
   "id": "228b6162",
   "metadata": {},
   "outputs": [
    {
     "name": "stdout",
     "output_type": "stream",
     "text": [
      "24681012141618\n",
      "369121518212427\n",
      "4812162024283236\n",
      "51015202530354045\n",
      "61218243036424854\n",
      "71421283542495663\n",
      "81624324048566472\n",
      "91827364554637281\n"
     ]
    }
   ],
   "source": [
    "for i in range(2,10):\n",
    "    for j in range(1,10):\n",
    "        print(i*j, end='')\n",
    "    print('')"
   ]
  },
  {
   "cell_type": "code",
   "execution_count": 129,
   "id": "d4791cb8",
   "metadata": {},
   "outputs": [
    {
     "name": "stdout",
     "output_type": "stream",
     "text": [
      "2\n",
      "3\n",
      "4\n",
      "5\n",
      "6\n",
      "7\n",
      "8\n",
      "9\n"
     ]
    }
   ],
   "source": [
    "for i in range(2,10):\n",
    "    print(i)"
   ]
  },
  {
   "cell_type": "code",
   "execution_count": 136,
   "id": "4026d0bb",
   "metadata": {},
   "outputs": [
    {
     "name": "stdout",
     "output_type": "stream",
     "text": [
      "====================\n",
      "x= 2\n",
      "====================\n",
      "2*1=2\n",
      "2*2=4\n",
      "2*3=6\n",
      "2*4=8\n",
      "2*5=10\n",
      "2*6=12\n",
      "2*7=14\n",
      "2*8=16\n",
      "2*9=18\n",
      "====================\n",
      "x= 3\n",
      "====================\n",
      "3*1=3\n",
      "3*2=6\n",
      "3*3=9\n",
      "3*4=12\n",
      "3*5=15\n",
      "3*6=18\n",
      "3*7=21\n",
      "3*8=24\n",
      "3*9=27\n",
      "====================\n",
      "x= 4\n",
      "====================\n",
      "4*1=4\n",
      "4*2=8\n",
      "4*3=12\n",
      "4*4=16\n",
      "4*5=20\n",
      "4*6=24\n",
      "4*7=28\n",
      "4*8=32\n",
      "4*9=36\n",
      "====================\n",
      "x= 5\n",
      "====================\n",
      "5*1=5\n",
      "5*2=10\n",
      "5*3=15\n",
      "5*4=20\n",
      "5*5=25\n",
      "5*6=30\n",
      "5*7=35\n",
      "5*8=40\n",
      "5*9=45\n",
      "====================\n",
      "x= 6\n",
      "====================\n",
      "6*1=6\n",
      "6*2=12\n",
      "6*3=18\n",
      "6*4=24\n",
      "6*5=30\n",
      "6*6=36\n",
      "6*7=42\n",
      "6*8=48\n",
      "6*9=54\n",
      "====================\n",
      "x= 7\n",
      "====================\n",
      "7*1=7\n",
      "7*2=14\n",
      "7*3=21\n",
      "7*4=28\n",
      "7*5=35\n",
      "7*6=42\n",
      "7*7=49\n",
      "7*8=56\n",
      "7*9=63\n",
      "====================\n",
      "x= 8\n",
      "====================\n",
      "8*1=8\n",
      "8*2=16\n",
      "8*3=24\n",
      "8*4=32\n",
      "8*5=40\n",
      "8*6=48\n",
      "8*7=56\n",
      "8*8=64\n",
      "8*9=72\n",
      "====================\n",
      "x= 9\n",
      "====================\n",
      "9*1=9\n",
      "9*2=18\n",
      "9*3=27\n",
      "9*4=36\n",
      "9*5=45\n",
      "9*6=54\n",
      "9*7=63\n",
      "9*8=72\n",
      "9*9=81\n"
     ]
    }
   ],
   "source": [
    "for i in range(2,10):\n",
    "    print('='*20)\n",
    "    print('x=', i)\n",
    "    print('='*20)\n",
    "    for j in range(1,10):\n",
    "        print(f'{i}*{j}={i*j}')"
   ]
  },
  {
   "cell_type": "markdown",
   "id": "14a42888",
   "metadata": {},
   "source": [
    "# 리스트 컴프리헨션 사용하기\n",
    "### 리스트 안에 for 문을 포함하는 리스트 컴프리헨션을 사용하면 좀 더 편리 "
   ]
  },
  {
   "cell_type": "code",
   "execution_count": 137,
   "id": "d81b4b4c",
   "metadata": {},
   "outputs": [
    {
     "name": "stdout",
     "output_type": "stream",
     "text": [
      "[3, 6, 9, 12]\n"
     ]
    }
   ],
   "source": [
    "a = [1,2,3,4]\n",
    "result = []\n",
    "\n",
    "for num in a:\n",
    "     result.append(num*3)\n",
    "        \n",
    "print(result)"
   ]
  },
  {
   "cell_type": "code",
   "execution_count": 139,
   "id": "63042028",
   "metadata": {},
   "outputs": [
    {
     "name": "stdout",
     "output_type": "stream",
     "text": [
      "[3, 6, 9, 12]\n"
     ]
    }
   ],
   "source": [
    "a = [1,2,3,4]\n",
    "result = [num * 3 for num in a]\n",
    "print(result)"
   ]
  },
  {
   "cell_type": "code",
   "execution_count": 140,
   "id": "05b4fe69",
   "metadata": {},
   "outputs": [
    {
     "name": "stdout",
     "output_type": "stream",
     "text": [
      "[6, 12]\n"
     ]
    }
   ],
   "source": [
    "a = [1,2,3,4]\n",
    "result = [num * 3 for num in a if num % 2 == 0]\n",
    "print(result)"
   ]
  },
  {
   "cell_type": "markdown",
   "id": "f2f2c1c5",
   "metadata": {},
   "source": []
  },
  {
   "cell_type": "code",
   "execution_count": 142,
   "id": "f4cc3170",
   "metadata": {},
   "outputs": [
    {
     "name": "stdout",
     "output_type": "stream",
     "text": [
      "List Comprehension Time: 0.12584185600280762\n",
      "For loop Time: 0.21869993209838867\n"
     ]
    }
   ],
   "source": [
    "# 시간 측정을 위한 코드, 2배넘게 차이남\n",
    "import time\n",
    "\n",
    "start = time.time() \n",
    "numbers = [i for i in range(1000000)] \n",
    "end = time.time() \n",
    "print('List Comprehension Time:', end-start)\n",
    "\n",
    "start = time.time() \n",
    "numbers = []\n",
    "for i in range(1000000):\n",
    "    numbers.append(i)\n",
    "end = time.time() \n",
    "print('For loop Time:', end-start)"
   ]
  },
  {
   "cell_type": "code",
   "execution_count": null,
   "id": "7f877c03",
   "metadata": {},
   "outputs": [],
   "source": []
  },
  {
   "cell_type": "code",
   "execution_count": null,
   "id": "fe3324c6",
   "metadata": {},
   "outputs": [],
   "source": []
  },
  {
   "cell_type": "code",
   "execution_count": null,
   "id": "be13670b",
   "metadata": {},
   "outputs": [],
   "source": []
  },
  {
   "cell_type": "code",
   "execution_count": null,
   "id": "97b0d968",
   "metadata": {},
   "outputs": [],
   "source": []
  },
  {
   "cell_type": "code",
   "execution_count": null,
   "id": "e060cfa0",
   "metadata": {},
   "outputs": [],
   "source": []
  },
  {
   "cell_type": "code",
   "execution_count": null,
   "id": "a0958a36",
   "metadata": {},
   "outputs": [],
   "source": []
  },
  {
   "cell_type": "code",
   "execution_count": null,
   "id": "3267e8ec",
   "metadata": {},
   "outputs": [],
   "source": []
  }
 ],
 "metadata": {
  "kernelspec": {
   "display_name": "Python 3 (ipykernel)",
   "language": "python",
   "name": "python3"
  },
  "language_info": {
   "codemirror_mode": {
    "name": "ipython",
    "version": 3
   },
   "file_extension": ".py",
   "mimetype": "text/x-python",
   "name": "python",
   "nbconvert_exporter": "python",
   "pygments_lexer": "ipython3",
   "version": "3.11.5"
  }
 },
 "nbformat": 4,
 "nbformat_minor": 5
}
