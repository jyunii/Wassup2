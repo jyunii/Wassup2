{
 "cells": [
  {
   "cell_type": "markdown",
   "id": "76cbb837",
   "metadata": {},
   "source": [
    "# 파이썬의 내장함수"
   ]
  },
  {
   "cell_type": "markdown",
   "id": "9cdc7594",
   "metadata": {},
   "source": [
    "- abs: 절댓값을 리턴하는 함수"
   ]
  },
  {
   "cell_type": "code",
   "execution_count": 1,
   "id": "8657cd1c",
   "metadata": {},
   "outputs": [
    {
     "data": {
      "text/plain": [
       "3"
      ]
     },
     "execution_count": 1,
     "metadata": {},
     "output_type": "execute_result"
    }
   ],
   "source": [
    "abs(-3)"
   ]
  },
  {
   "cell_type": "code",
   "execution_count": 2,
   "id": "2150de53",
   "metadata": {
    "scrolled": true
   },
   "outputs": [
    {
     "data": {
      "text/plain": [
       "1.2"
      ]
     },
     "execution_count": 2,
     "metadata": {},
     "output_type": "execute_result"
    }
   ],
   "source": [
    "abs(-1.2)"
   ]
  },
  {
   "cell_type": "markdown",
   "id": "fafe94e8",
   "metadata": {},
   "source": [
    "- all: x의 요소가 모두 참이면 True, 거짓이 하나라도 있으면 False를 리턴"
   ]
  },
  {
   "cell_type": "code",
   "execution_count": 3,
   "id": "e0d10370",
   "metadata": {},
   "outputs": [
    {
     "data": {
      "text/plain": [
       "True"
      ]
     },
     "execution_count": 3,
     "metadata": {},
     "output_type": "execute_result"
    }
   ],
   "source": [
    "all([1, 2, 3])"
   ]
  },
  {
   "cell_type": "code",
   "execution_count": 5,
   "id": "594a1ae6",
   "metadata": {},
   "outputs": [
    {
     "data": {
      "text/plain": [
       "False"
      ]
     },
     "execution_count": 5,
     "metadata": {},
     "output_type": "execute_result"
    }
   ],
   "source": [
    "all([1, 2, 3, 0]) # 0은 값이 없어서 거짓"
   ]
  },
  {
   "cell_type": "code",
   "execution_count": 7,
   "id": "e2a204a9",
   "metadata": {},
   "outputs": [
    {
     "data": {
      "text/plain": [
       "True"
      ]
     },
     "execution_count": 7,
     "metadata": {},
     "output_type": "execute_result"
    }
   ],
   "source": [
    "all([])  # list 요소가 모두 False 니까 True"
   ]
  },
  {
   "cell_type": "markdown",
   "id": "747d7b56",
   "metadata": {},
   "source": [
    "- any: x의 요소 중 하나라도 참이 있으면 True를 리턴하고 x가 모두 거짓일 때만 False를 리턴한다. 즉, all(x)의 반대"
   ]
  },
  {
   "cell_type": "code",
   "execution_count": 8,
   "id": "c9117626",
   "metadata": {},
   "outputs": [
    {
     "data": {
      "text/plain": [
       "True"
      ]
     },
     "execution_count": 8,
     "metadata": {},
     "output_type": "execute_result"
    }
   ],
   "source": [
    "any([1, 2, 3, 0])"
   ]
  },
  {
   "cell_type": "code",
   "execution_count": 9,
   "id": "c6d394ce",
   "metadata": {},
   "outputs": [
    {
     "data": {
      "text/plain": [
       "False"
      ]
     },
     "execution_count": 9,
     "metadata": {},
     "output_type": "execute_result"
    }
   ],
   "source": [
    "any([0, \"\"])"
   ]
  },
  {
   "cell_type": "code",
   "execution_count": 11,
   "id": "9de02bf5",
   "metadata": {},
   "outputs": [
    {
     "data": {
      "text/plain": [
       "False"
      ]
     },
     "execution_count": 11,
     "metadata": {},
     "output_type": "execute_result"
    }
   ],
   "source": [
    "any([]) # 빈 값인 경우에는 False를 리턴"
   ]
  },
  {
   "cell_type": "markdown",
   "id": "01391e4b",
   "metadata": {},
   "source": [
    "- chr: 유니코드 숫자 값을 입력받아 그 코드에 해당하는 문자를 리턴하는 함수"
   ]
  },
  {
   "cell_type": "code",
   "execution_count": 12,
   "id": "bbf4b980",
   "metadata": {
    "scrolled": true
   },
   "outputs": [
    {
     "data": {
      "text/plain": [
       "'a'"
      ]
     },
     "execution_count": 12,
     "metadata": {},
     "output_type": "execute_result"
    }
   ],
   "source": [
    "chr(97)"
   ]
  },
  {
   "cell_type": "code",
   "execution_count": 13,
   "id": "111ebcb2",
   "metadata": {},
   "outputs": [
    {
     "data": {
      "text/plain": [
       "'가'"
      ]
     },
     "execution_count": 13,
     "metadata": {},
     "output_type": "execute_result"
    }
   ],
   "source": [
    "chr(44032)"
   ]
  },
  {
   "cell_type": "markdown",
   "id": "38841ccc",
   "metadata": {},
   "source": [
    "- dir: 객체가 지닌 변수나 함수를 보여 주는 함수"
   ]
  },
  {
   "cell_type": "code",
   "execution_count": 14,
   "id": "dbe9eab5",
   "metadata": {},
   "outputs": [
    {
     "data": {
      "text/plain": [
       "['__add__',\n",
       " '__class__',\n",
       " '__class_getitem__',\n",
       " '__contains__',\n",
       " '__delattr__',\n",
       " '__delitem__',\n",
       " '__dir__',\n",
       " '__doc__',\n",
       " '__eq__',\n",
       " '__format__',\n",
       " '__ge__',\n",
       " '__getattribute__',\n",
       " '__getitem__',\n",
       " '__getstate__',\n",
       " '__gt__',\n",
       " '__hash__',\n",
       " '__iadd__',\n",
       " '__imul__',\n",
       " '__init__',\n",
       " '__init_subclass__',\n",
       " '__iter__',\n",
       " '__le__',\n",
       " '__len__',\n",
       " '__lt__',\n",
       " '__mul__',\n",
       " '__ne__',\n",
       " '__new__',\n",
       " '__reduce__',\n",
       " '__reduce_ex__',\n",
       " '__repr__',\n",
       " '__reversed__',\n",
       " '__rmul__',\n",
       " '__setattr__',\n",
       " '__setitem__',\n",
       " '__sizeof__',\n",
       " '__str__',\n",
       " '__subclasshook__',\n",
       " 'append',\n",
       " 'clear',\n",
       " 'copy',\n",
       " 'count',\n",
       " 'extend',\n",
       " 'index',\n",
       " 'insert',\n",
       " 'pop',\n",
       " 'remove',\n",
       " 'reverse',\n",
       " 'sort']"
      ]
     },
     "execution_count": 14,
     "metadata": {},
     "output_type": "execute_result"
    }
   ],
   "source": [
    "dir([1, 2, 3])  # 리스트에 대한 함수"
   ]
  },
  {
   "cell_type": "code",
   "execution_count": 15,
   "id": "5c6352e1",
   "metadata": {},
   "outputs": [
    {
     "data": {
      "text/plain": [
       "['__class__',\n",
       " '__class_getitem__',\n",
       " '__contains__',\n",
       " '__delattr__',\n",
       " '__delitem__',\n",
       " '__dir__',\n",
       " '__doc__',\n",
       " '__eq__',\n",
       " '__format__',\n",
       " '__ge__',\n",
       " '__getattribute__',\n",
       " '__getitem__',\n",
       " '__getstate__',\n",
       " '__gt__',\n",
       " '__hash__',\n",
       " '__init__',\n",
       " '__init_subclass__',\n",
       " '__ior__',\n",
       " '__iter__',\n",
       " '__le__',\n",
       " '__len__',\n",
       " '__lt__',\n",
       " '__ne__',\n",
       " '__new__',\n",
       " '__or__',\n",
       " '__reduce__',\n",
       " '__reduce_ex__',\n",
       " '__repr__',\n",
       " '__reversed__',\n",
       " '__ror__',\n",
       " '__setattr__',\n",
       " '__setitem__',\n",
       " '__sizeof__',\n",
       " '__str__',\n",
       " '__subclasshook__',\n",
       " 'clear',\n",
       " 'copy',\n",
       " 'fromkeys',\n",
       " 'get',\n",
       " 'items',\n",
       " 'keys',\n",
       " 'pop',\n",
       " 'popitem',\n",
       " 'setdefault',\n",
       " 'update',\n",
       " 'values']"
      ]
     },
     "execution_count": 15,
     "metadata": {},
     "output_type": "execute_result"
    }
   ],
   "source": [
    "dir({'1':'a'})"
   ]
  },
  {
   "cell_type": "markdown",
   "id": "6683fad3",
   "metadata": {},
   "source": [
    "- divmod: divmod(a, b)는 2개의 숫자 a, b를 입력으로 받는다. 그리고 a를 b로 나눈 몫과 나머지를 튜플로 리턴"
   ]
  },
  {
   "cell_type": "code",
   "execution_count": 16,
   "id": "b642af01",
   "metadata": {
    "scrolled": true
   },
   "outputs": [
    {
     "data": {
      "text/plain": [
       "(2, 1)"
      ]
     },
     "execution_count": 16,
     "metadata": {},
     "output_type": "execute_result"
    }
   ],
   "source": [
    "divmod(7, 3)"
   ]
  },
  {
   "cell_type": "code",
   "execution_count": 17,
   "id": "4cdb12d6",
   "metadata": {},
   "outputs": [
    {
     "data": {
      "text/plain": [
       "2"
      ]
     },
     "execution_count": 17,
     "metadata": {},
     "output_type": "execute_result"
    }
   ],
   "source": [
    "7 // 3"
   ]
  },
  {
   "cell_type": "code",
   "execution_count": 18,
   "id": "7775e8d8",
   "metadata": {},
   "outputs": [
    {
     "data": {
      "text/plain": [
       "1"
      ]
     },
     "execution_count": 18,
     "metadata": {},
     "output_type": "execute_result"
    }
   ],
   "source": [
    "7 % 3"
   ]
  },
  {
   "cell_type": "markdown",
   "id": "c74c3f11",
   "metadata": {},
   "source": [
    "- enumerate: 순서가 있는 데이터(리스트, 튜플, 문자열)를 입력으로 받아 인덱스 값을 포함하는 enumerate 객체를 리턴, 보통 enumerate 함수는 for 문과 함께 사용 (중요!!)"
   ]
  },
  {
   "cell_type": "code",
   "execution_count": 19,
   "id": "c8e7fd57",
   "metadata": {},
   "outputs": [
    {
     "name": "stdout",
     "output_type": "stream",
     "text": [
      "0 body\n",
      "1 foo\n",
      "2 bar\n"
     ]
    }
   ],
   "source": [
    "for i, name in enumerate(['body', 'foo', 'bar']):\n",
    "     print(i, name)"
   ]
  },
  {
   "cell_type": "markdown",
   "id": "a2cfd229",
   "metadata": {},
   "source": [
    "- eval:  문자열로 구성된 표현식을 입력으로 받아 해당 문자열을 실행한 결괏값을 리턴하는 함수"
   ]
  },
  {
   "cell_type": "code",
   "execution_count": 20,
   "id": "eaa2684c",
   "metadata": {},
   "outputs": [
    {
     "data": {
      "text/plain": [
       "3"
      ]
     },
     "execution_count": 20,
     "metadata": {},
     "output_type": "execute_result"
    }
   ],
   "source": [
    "eval('1+2')"
   ]
  },
  {
   "cell_type": "code",
   "execution_count": 21,
   "id": "f6f4f384",
   "metadata": {},
   "outputs": [
    {
     "data": {
      "text/plain": [
       "'hia'"
      ]
     },
     "execution_count": 21,
     "metadata": {},
     "output_type": "execute_result"
    }
   ],
   "source": [
    "eval(\"'hi' + 'a'\")"
   ]
  },
  {
   "cell_type": "code",
   "execution_count": 22,
   "id": "78ceb1f0",
   "metadata": {},
   "outputs": [
    {
     "data": {
      "text/plain": [
       "(1, 1)"
      ]
     },
     "execution_count": 22,
     "metadata": {},
     "output_type": "execute_result"
    }
   ],
   "source": [
    "eval('divmod(4, 3)')"
   ]
  },
  {
   "cell_type": "markdown",
   "id": "e2f69bfd",
   "metadata": {},
   "source": [
    "- filter: 리턴값이 참인 것만 묶어서(걸러 내서) 리턴 (중요!!)\n",
    " \n",
    "     filter(함수, 반복_가능한_데이터)"
   ]
  },
  {
   "cell_type": "code",
   "execution_count": 23,
   "id": "c40a3d9a",
   "metadata": {},
   "outputs": [
    {
     "name": "stdout",
     "output_type": "stream",
     "text": [
      "[1, 2, 6]\n"
     ]
    }
   ],
   "source": [
    "# positive.py \n",
    "def positive(l): \n",
    "    result = [] \n",
    "    for i in l: \n",
    "        if i > 0: \n",
    "            result.append(i) \n",
    "    return result\n",
    "\n",
    "print(positive([1,-3,2,0,-5,6]))\n"
   ]
  },
  {
   "cell_type": "code",
   "execution_count": 24,
   "id": "5c725cb1",
   "metadata": {
    "scrolled": true
   },
   "outputs": [
    {
     "name": "stdout",
     "output_type": "stream",
     "text": [
      "[1, 2, 6]\n"
     ]
    }
   ],
   "source": [
    "# filter1.py\n",
    "def positive(x):\n",
    "    return x > 0\n",
    "\n",
    "print(list(filter(positive, [1, -3, 2, 0, -5, 6])))\n"
   ]
  },
  {
   "cell_type": "code",
   "execution_count": 28,
   "id": "c8b37a36",
   "metadata": {},
   "outputs": [
    {
     "data": {
      "text/plain": [
       "<filter at 0x2a77c485fc0>"
      ]
     },
     "execution_count": 28,
     "metadata": {},
     "output_type": "execute_result"
    }
   ],
   "source": [
    "filter(positive, [1, -3, 2, 0, -5, 6])"
   ]
  },
  {
   "cell_type": "code",
   "execution_count": 26,
   "id": "6138f9eb",
   "metadata": {},
   "outputs": [
    {
     "data": {
      "text/plain": [
       "[1, 2, 6]"
      ]
     },
     "execution_count": 26,
     "metadata": {},
     "output_type": "execute_result"
    }
   ],
   "source": [
    "list(filter(positive, [1, -3, 2, 0, -5, 6]))"
   ]
  },
  {
   "cell_type": "code",
   "execution_count": 25,
   "id": "fe8bd246",
   "metadata": {},
   "outputs": [
    {
     "data": {
      "text/plain": [
       "[1, 2, 6]"
      ]
     },
     "execution_count": 25,
     "metadata": {},
     "output_type": "execute_result"
    }
   ],
   "source": [
    "list(filter(lambda x: x > 0, [1, -3, 2, 0, -5, 6]))"
   ]
  },
  {
   "cell_type": "markdown",
   "id": "3009a1ca",
   "metadata": {},
   "source": [
    "- input: 입력 인수로 문자열을 전달하면 그 문자열은 프롬프트가 된다."
   ]
  },
  {
   "cell_type": "markdown",
   "id": "58f1f487",
   "metadata": {},
   "source": [
    "- int: 문자열 형태의 숫자나 소수점이 있는 숫자를 정수로 리턴하는 함수"
   ]
  },
  {
   "cell_type": "code",
   "execution_count": 29,
   "id": "f1aa3f06",
   "metadata": {},
   "outputs": [
    {
     "data": {
      "text/plain": [
       "3"
      ]
     },
     "execution_count": 29,
     "metadata": {},
     "output_type": "execute_result"
    }
   ],
   "source": [
    "int('3')"
   ]
  },
  {
   "cell_type": "code",
   "execution_count": 32,
   "id": "2d88d4a5",
   "metadata": {},
   "outputs": [
    {
     "data": {
      "text/plain": [
       "3"
      ]
     },
     "execution_count": 32,
     "metadata": {},
     "output_type": "execute_result"
    }
   ],
   "source": [
    "int(3.124)"
   ]
  },
  {
   "cell_type": "markdown",
   "id": "93997443",
   "metadata": {},
   "source": [
    "- isinstance: 입력으로 받은 객체가 그 클래스의 인스턴스인지를 판단하여 참이면 True, 거짓이면 False를 리턴"
   ]
  },
  {
   "cell_type": "code",
   "execution_count": 34,
   "id": "38bae96a",
   "metadata": {},
   "outputs": [
    {
     "data": {
      "text/plain": [
       "True"
      ]
     },
     "execution_count": 34,
     "metadata": {},
     "output_type": "execute_result"
    }
   ],
   "source": [
    "class Person: pass\n",
    "a = Person()\n",
    "isinstance(a, Person)"
   ]
  },
  {
   "cell_type": "code",
   "execution_count": 35,
   "id": "c4d2b3aa",
   "metadata": {},
   "outputs": [
    {
     "data": {
      "text/plain": [
       "False"
      ]
     },
     "execution_count": 35,
     "metadata": {},
     "output_type": "execute_result"
    }
   ],
   "source": [
    "b = 3\n",
    "isinstance(b, Person)"
   ]
  },
  {
   "cell_type": "markdown",
   "id": "935ae9e3",
   "metadata": {},
   "source": [
    "- len: 입력값 s의 길이(요소의 전체 개수)를 리턴하는 함수"
   ]
  },
  {
   "cell_type": "markdown",
   "id": "82e1c0b8",
   "metadata": {},
   "source": [
    "- list: 반복 가능한 데이터를 입력받아 리스트로 만들어 리턴하는 함수"
   ]
  },
  {
   "cell_type": "markdown",
   "id": "316091f8",
   "metadata": {},
   "source": [
    "- map: 데이터의 각 요소에 함수 f를 적용한 결과를 리턴하는 함수"
   ]
  },
  {
   "cell_type": "code",
   "execution_count": 37,
   "id": "ee595597",
   "metadata": {},
   "outputs": [
    {
     "name": "stdout",
     "output_type": "stream",
     "text": [
      "[2, 4, 6, 8]\n"
     ]
    }
   ],
   "source": [
    "# two_times는 리스트를 입력받아 리스트의 각 요소에 2를 곱해 리턴하는 함수\n",
    "\n",
    "def two_times(numberList):\n",
    "    result = []\n",
    "    for number in numberList:\n",
    "        result.append(number*2)\n",
    "    return result\n",
    "\n",
    "result = two_times([1, 2, 3, 4])\n",
    "print(result)"
   ]
  },
  {
   "cell_type": "code",
   "execution_count": 38,
   "id": "9eed0da7",
   "metadata": {},
   "outputs": [
    {
     "data": {
      "text/plain": [
       "[2, 4, 6, 8]"
      ]
     },
     "execution_count": 38,
     "metadata": {},
     "output_type": "execute_result"
    }
   ],
   "source": [
    "def two_times(x): \n",
    "     return x*2\n",
    "    \n",
    "list(map(two_times, [1, 2, 3, 4]))"
   ]
  },
  {
   "cell_type": "code",
   "execution_count": 39,
   "id": "d7c622e8",
   "metadata": {},
   "outputs": [
    {
     "data": {
      "text/plain": [
       "[2, 4, 6, 8]"
      ]
     },
     "execution_count": 39,
     "metadata": {},
     "output_type": "execute_result"
    }
   ],
   "source": [
    "list(map(lambda a: a*2, [1, 2, 3, 4]))"
   ]
  },
  {
   "cell_type": "markdown",
   "id": "ba502a2e",
   "metadata": {},
   "source": [
    "- max: 최댓값을 리턴\n",
    "- min: 최솟값을 리턴"
   ]
  },
  {
   "cell_type": "code",
   "execution_count": 40,
   "id": "02297a0d",
   "metadata": {},
   "outputs": [
    {
     "data": {
      "text/plain": [
       "3"
      ]
     },
     "execution_count": 40,
     "metadata": {},
     "output_type": "execute_result"
    }
   ],
   "source": [
    "max([1, 2, 3])"
   ]
  },
  {
   "cell_type": "code",
   "execution_count": 41,
   "id": "0c98401d",
   "metadata": {},
   "outputs": [
    {
     "data": {
      "text/plain": [
       "'y'"
      ]
     },
     "execution_count": 41,
     "metadata": {},
     "output_type": "execute_result"
    }
   ],
   "source": [
    "max(\"python\")"
   ]
  },
  {
   "cell_type": "code",
   "execution_count": 42,
   "id": "c1b55384",
   "metadata": {},
   "outputs": [
    {
     "data": {
      "text/plain": [
       "1"
      ]
     },
     "execution_count": 42,
     "metadata": {},
     "output_type": "execute_result"
    }
   ],
   "source": [
    "min([1, 2, 3])"
   ]
  },
  {
   "cell_type": "code",
   "execution_count": 43,
   "id": "15cba08b",
   "metadata": {},
   "outputs": [
    {
     "data": {
      "text/plain": [
       "'h'"
      ]
     },
     "execution_count": 43,
     "metadata": {},
     "output_type": "execute_result"
    }
   ],
   "source": [
    " min(\"python\")"
   ]
  },
  {
   "cell_type": "markdown",
   "id": "be707ac4",
   "metadata": {},
   "source": [
    "- oct: 정수를 8진수 문자열로 바꾸어 리턴하는 함수"
   ]
  },
  {
   "cell_type": "markdown",
   "id": "d705c92a",
   "metadata": {},
   "source": [
    "- open: ‘파일 이름’과 ‘읽기 방법’을 입력받아 파일 객체를 리턴"
   ]
  },
  {
   "cell_type": "markdown",
   "id": "feb7fe9d",
   "metadata": {},
   "source": [
    "- ord: 문자의 유니코드 숫자 값을 리턴하는 함수( chr 함수와 반대 )"
   ]
  },
  {
   "cell_type": "markdown",
   "id": "5b62cb93",
   "metadata": {},
   "source": [
    "- pow: pow(x, y)는 x를 y제곱한 결괏값을 리턴"
   ]
  },
  {
   "cell_type": "code",
   "execution_count": 44,
   "id": "eb4a530a",
   "metadata": {},
   "outputs": [
    {
     "data": {
      "text/plain": [
       "16"
      ]
     },
     "execution_count": 44,
     "metadata": {},
     "output_type": "execute_result"
    }
   ],
   "source": [
    "pow(2, 4)"
   ]
  },
  {
   "cell_type": "code",
   "execution_count": 45,
   "id": "260c581d",
   "metadata": {},
   "outputs": [
    {
     "data": {
      "text/plain": [
       "27"
      ]
     },
     "execution_count": 45,
     "metadata": {},
     "output_type": "execute_result"
    }
   ],
   "source": [
    "pow(3, 3)"
   ]
  },
  {
   "cell_type": "markdown",
   "id": "1b890352",
   "metadata": {},
   "source": [
    "- range: for 문과 함께 자주 사용하는 함수. 입력받은 숫자에 해당하는 범위 값을 반복 가능한 객체로 만들어 리턴"
   ]
  },
  {
   "cell_type": "code",
   "execution_count": 46,
   "id": "3f8f6583",
   "metadata": {},
   "outputs": [
    {
     "data": {
      "text/plain": [
       "[0, 1, 2, 3, 4]"
      ]
     },
     "execution_count": 46,
     "metadata": {},
     "output_type": "execute_result"
    }
   ],
   "source": [
    "# 인수가 하나일 경우 - 0부터 시작\n",
    "list(range(5)) "
   ]
  },
  {
   "cell_type": "code",
   "execution_count": 47,
   "id": "842038f7",
   "metadata": {},
   "outputs": [
    {
     "data": {
      "text/plain": [
       "[5, 6, 7, 8, 9]"
      ]
     },
     "execution_count": 47,
     "metadata": {},
     "output_type": "execute_result"
    }
   ],
   "source": [
    "# 인수가 2개일 경우 -  시작 숫자와 끝 숫자\n",
    "list(range(5, 10))"
   ]
  },
  {
   "cell_type": "code",
   "execution_count": 48,
   "id": "06059cbb",
   "metadata": {},
   "outputs": [
    {
     "data": {
      "text/plain": [
       "[1, 3, 5, 7, 9]"
      ]
     },
     "execution_count": 48,
     "metadata": {},
     "output_type": "execute_result"
    }
   ],
   "source": [
    "# 인수가 3개일 경우 - 세 번째 인수는 숫자 사이의 거리\n",
    "list(range(1, 10, 2))"
   ]
  },
  {
   "cell_type": "code",
   "execution_count": 49,
   "id": "ee3f396c",
   "metadata": {},
   "outputs": [
    {
     "data": {
      "text/plain": [
       "[0, -1, -2, -3, -4, -5, -6, -7, -8, -9]"
      ]
     },
     "execution_count": 49,
     "metadata": {},
     "output_type": "execute_result"
    }
   ],
   "source": [
    "list(range(0, -10, -1))"
   ]
  },
  {
   "cell_type": "markdown",
   "id": "11d1a4ee",
   "metadata": {},
   "source": [
    "- round: 숫자를 입력받아 반올림해 리턴"
   ]
  },
  {
   "cell_type": "code",
   "execution_count": 50,
   "id": "25f22ab8",
   "metadata": {},
   "outputs": [
    {
     "data": {
      "text/plain": [
       "5"
      ]
     },
     "execution_count": 50,
     "metadata": {},
     "output_type": "execute_result"
    }
   ],
   "source": [
    "round(4.6)"
   ]
  },
  {
   "cell_type": "code",
   "execution_count": 51,
   "id": "c7244de8",
   "metadata": {},
   "outputs": [
    {
     "data": {
      "text/plain": [
       "4"
      ]
     },
     "execution_count": 51,
     "metadata": {},
     "output_type": "execute_result"
    }
   ],
   "source": [
    "round(4.2)"
   ]
  },
  {
   "cell_type": "code",
   "execution_count": 52,
   "id": "51c0e59f",
   "metadata": {},
   "outputs": [
    {
     "data": {
      "text/plain": [
       "5.68"
      ]
     },
     "execution_count": 52,
     "metadata": {},
     "output_type": "execute_result"
    }
   ],
   "source": [
    "# 실수 5.678을 소수점 2자리까지만 반올림\n",
    "round(5.678, 2)"
   ]
  },
  {
   "cell_type": "markdown",
   "id": "9ffeba87",
   "metadata": {},
   "source": [
    "- sorted: 입력 데이터를 정렬한 후 그 결과를 리스트로 리턴 ( 오름차순 정렬 )"
   ]
  },
  {
   "cell_type": "code",
   "execution_count": 53,
   "id": "890c4e11",
   "metadata": {
    "scrolled": true
   },
   "outputs": [
    {
     "data": {
      "text/plain": [
       "[1, 2, 3]"
      ]
     },
     "execution_count": 53,
     "metadata": {},
     "output_type": "execute_result"
    }
   ],
   "source": [
    "sorted([3, 1, 2])"
   ]
  },
  {
   "cell_type": "code",
   "execution_count": 54,
   "id": "a0209c28",
   "metadata": {},
   "outputs": [
    {
     "data": {
      "text/plain": [
       "['a', 'b', 'c']"
      ]
     },
     "execution_count": 54,
     "metadata": {},
     "output_type": "execute_result"
    }
   ],
   "source": [
    "sorted(['a', 'c', 'b'])"
   ]
  },
  {
   "cell_type": "code",
   "execution_count": 55,
   "id": "be2903bb",
   "metadata": {},
   "outputs": [
    {
     "data": {
      "text/plain": [
       "['e', 'o', 'r', 'z']"
      ]
     },
     "execution_count": 55,
     "metadata": {},
     "output_type": "execute_result"
    }
   ],
   "source": [
    "sorted(\"zero\")"
   ]
  },
  {
   "cell_type": "code",
   "execution_count": 56,
   "id": "09006f63",
   "metadata": {},
   "outputs": [
    {
     "data": {
      "text/plain": [
       "[1, 2, 3]"
      ]
     },
     "execution_count": 56,
     "metadata": {},
     "output_type": "execute_result"
    }
   ],
   "source": [
    "sorted((3, 2, 1))"
   ]
  },
  {
   "cell_type": "markdown",
   "id": "71f0aa12",
   "metadata": {},
   "source": [
    "- str:  문자열 형태로 객체를 변환하여 리턴"
   ]
  },
  {
   "cell_type": "code",
   "execution_count": 59,
   "id": "79f138f9",
   "metadata": {
    "scrolled": true
   },
   "outputs": [
    {
     "data": {
      "text/plain": [
       "('3', str)"
      ]
     },
     "execution_count": 59,
     "metadata": {},
     "output_type": "execute_result"
    }
   ],
   "source": [
    "a = str(3)\n",
    "a,type(a)"
   ]
  },
  {
   "cell_type": "code",
   "execution_count": 58,
   "id": "01a5d7f5",
   "metadata": {},
   "outputs": [
    {
     "data": {
      "text/plain": [
       "'hi'"
      ]
     },
     "execution_count": 58,
     "metadata": {},
     "output_type": "execute_result"
    }
   ],
   "source": [
    "str('hi')"
   ]
  },
  {
   "cell_type": "markdown",
   "id": "3d69ba4c",
   "metadata": {},
   "source": [
    "- sum: 입력 데이터의 합을 리턴"
   ]
  },
  {
   "cell_type": "code",
   "execution_count": 60,
   "id": "e46d240b",
   "metadata": {},
   "outputs": [
    {
     "data": {
      "text/plain": [
       "6"
      ]
     },
     "execution_count": 60,
     "metadata": {},
     "output_type": "execute_result"
    }
   ],
   "source": [
    "sum([1,2,3])"
   ]
  },
  {
   "cell_type": "code",
   "execution_count": 61,
   "id": "61a7fbc1",
   "metadata": {},
   "outputs": [
    {
     "data": {
      "text/plain": [
       "15"
      ]
     },
     "execution_count": 61,
     "metadata": {},
     "output_type": "execute_result"
    }
   ],
   "source": [
    "sum((4,5,6))"
   ]
  },
  {
   "cell_type": "markdown",
   "id": "9db0d6fb",
   "metadata": {},
   "source": [
    "- tuple: 반복 가능한 데이터를 튜플로 바꾸어 리턴"
   ]
  },
  {
   "cell_type": "code",
   "execution_count": 62,
   "id": "0af8f5dc",
   "metadata": {},
   "outputs": [
    {
     "data": {
      "text/plain": [
       "('a', 'b', 'c')"
      ]
     },
     "execution_count": 62,
     "metadata": {},
     "output_type": "execute_result"
    }
   ],
   "source": [
    "tuple(\"abc\")"
   ]
  },
  {
   "cell_type": "code",
   "execution_count": 63,
   "id": "7d58b236",
   "metadata": {},
   "outputs": [
    {
     "data": {
      "text/plain": [
       "(1, 2, 3)"
      ]
     },
     "execution_count": 63,
     "metadata": {},
     "output_type": "execute_result"
    }
   ],
   "source": [
    "tuple([1, 2, 3])"
   ]
  },
  {
   "cell_type": "code",
   "execution_count": 64,
   "id": "47ac0961",
   "metadata": {},
   "outputs": [
    {
     "data": {
      "text/plain": [
       "(1, 2, 3)"
      ]
     },
     "execution_count": 64,
     "metadata": {},
     "output_type": "execute_result"
    }
   ],
   "source": [
    "tuple((1, 2, 3))"
   ]
  },
  {
   "cell_type": "markdown",
   "id": "8f62fa98",
   "metadata": {},
   "source": [
    "- type: 입력값의 자료형이 무엇인지 알려 주는 함수"
   ]
  },
  {
   "cell_type": "code",
   "execution_count": 65,
   "id": "13ed3558",
   "metadata": {},
   "outputs": [
    {
     "data": {
      "text/plain": [
       "('3', str)"
      ]
     },
     "execution_count": 65,
     "metadata": {},
     "output_type": "execute_result"
    }
   ],
   "source": [
    "a = str(3)\n",
    "a,type(a)"
   ]
  },
  {
   "cell_type": "code",
   "execution_count": 66,
   "id": "b0e3f7aa",
   "metadata": {},
   "outputs": [
    {
     "data": {
      "text/plain": [
       "(3, int)"
      ]
     },
     "execution_count": 66,
     "metadata": {},
     "output_type": "execute_result"
    }
   ],
   "source": [
    "a = int(3)\n",
    "a,type(a)"
   ]
  },
  {
   "cell_type": "markdown",
   "id": "7e69a10d",
   "metadata": {},
   "source": [
    "- zip: 동일한 개수로 이루어진 데이터들을 묶어서 리턴하는 함수"
   ]
  },
  {
   "cell_type": "code",
   "execution_count": 67,
   "id": "4cdf95f2",
   "metadata": {},
   "outputs": [
    {
     "data": {
      "text/plain": [
       "[(1, 4), (2, 5), (3, 6)]"
      ]
     },
     "execution_count": 67,
     "metadata": {},
     "output_type": "execute_result"
    }
   ],
   "source": [
    "list(zip([1, 2, 3], [4, 5, 6]))\n",
    "\n",
    "# 첫번째 인덱스끼리 묶고, 두번째 인덱스끼리 묶어서 출력"
   ]
  },
  {
   "cell_type": "code",
   "execution_count": 68,
   "id": "453de997",
   "metadata": {},
   "outputs": [
    {
     "data": {
      "text/plain": [
       "[(1, 4, 7), (2, 5, 8), (3, 6, 9)]"
      ]
     },
     "execution_count": 68,
     "metadata": {},
     "output_type": "execute_result"
    }
   ],
   "source": [
    "list(zip([1, 2, 3], [4, 5, 6], [7, 8, 9]))"
   ]
  },
  {
   "cell_type": "code",
   "execution_count": 69,
   "id": "b68da9f8",
   "metadata": {},
   "outputs": [
    {
     "data": {
      "text/plain": [
       "[('a', 'd'), ('b', 'e'), ('c', 'f')]"
      ]
     },
     "execution_count": 69,
     "metadata": {},
     "output_type": "execute_result"
    }
   ],
   "source": [
    "list(zip(\"abc\", \"def\"))"
   ]
  },
  {
   "cell_type": "markdown",
   "id": "d45c9a6a",
   "metadata": {},
   "source": [
    "### filter: 불린을 리턴하는 비교함수를 토대로 걸러내는 역할\n",
    "### map: 특정 함수와 데이터를 계산한 결과를 리턴하는 역할\n",
    "### zip: a와 b의 데이터를 묶어서 리턴하는 역할"
   ]
  },
  {
   "cell_type": "markdown",
   "id": "2c6489bf",
   "metadata": {},
   "source": []
  },
  {
   "cell_type": "markdown",
   "id": "b8ef962f",
   "metadata": {},
   "source": []
  },
  {
   "cell_type": "markdown",
   "id": "7bd2b799",
   "metadata": {},
   "source": [
    "# 라이브러리\n",
    "- 원하는 정보를 찾아보는 곳\n",
    "- 파이썬 표준 라이브러리는 파이썬을 설치할 때 자동으로 컴퓨터에 설치된다.\n",
    "- sys, re 모듈은 파이썬의 중요한 표준 라이브러리"
   ]
  },
  {
   "cell_type": "markdown",
   "id": "1f2a74f8",
   "metadata": {},
   "source": [
    "### datetime.date: 연, 월, 일로 날짜를 표현할 때 사용하는 함수"
   ]
  },
  {
   "cell_type": "markdown",
   "id": "792844f2",
   "metadata": {},
   "source": [
    "-  만약 A 군과 B 양이 '2021년 12월 14일'부터 만나기 시작했다면,   '2023년 4월 5일'은 둘이 사귄 지 며칠째 되는 날 일까?   아울러 사귀기 시작한 '2021년 12월 14일'은 무슨 요일이었을까?"
   ]
  },
  {
   "cell_type": "code",
   "execution_count": 73,
   "id": "df449ac8",
   "metadata": {},
   "outputs": [
    {
     "data": {
      "text/plain": [
       "(datetime.date(2021, 12, 14), datetime.date(2023, 4, 5))"
      ]
     },
     "execution_count": 73,
     "metadata": {},
     "output_type": "execute_result"
    }
   ],
   "source": [
    "# import는 datetime 모듈을 사용하겠다는 선언문(?)\n",
    "import datetime\n",
    "\n",
    "day1 = datetime.date(2021, 12, 14)\n",
    "day2 = datetime.date(2023, 4, 5)\n",
    "day1, day2"
   ]
  },
  {
   "cell_type": "code",
   "execution_count": 77,
   "id": "57df1d5b",
   "metadata": {},
   "outputs": [
    {
     "data": {
      "text/plain": [
       "477"
      ]
     },
     "execution_count": 77,
     "metadata": {},
     "output_type": "execute_result"
    }
   ],
   "source": [
    "diff = day2 - day1\n",
    "diff.days"
   ]
  },
  {
   "cell_type": "code",
   "execution_count": 78,
   "id": "41a632bb",
   "metadata": {},
   "outputs": [
    {
     "data": {
      "text/plain": [
       "1"
      ]
     },
     "execution_count": 78,
     "metadata": {},
     "output_type": "execute_result"
    }
   ],
   "source": [
    "# 요일 구하기\n",
    "day = datetime.date(2021, 12, 14)\n",
    "day.weekday()\n",
    "\n",
    "# 0은 월요일을 의미하며 순서대로 1은 화요일, 2는 수요일, …, 6은 일요일"
   ]
  },
  {
   "cell_type": "code",
   "execution_count": null,
   "id": "da6f6710",
   "metadata": {},
   "outputs": [],
   "source": [
    "day.isoweekday()\n",
    "\n",
    "# isoweekday 함수를 사용하면, 월요일은 1, 화요일은 2, …, 일요일은 7"
   ]
  },
  {
   "cell_type": "code",
   "execution_count": 79,
   "id": "ac54b864",
   "metadata": {},
   "outputs": [
    {
     "data": {
      "text/plain": [
       "(datetime.date(2024, 3, 12), datetime.date(2024, 1, 22))"
      ]
     },
     "execution_count": 79,
     "metadata": {},
     "output_type": "execute_result"
    }
   ],
   "source": [
    "import datetime\n",
    "\n",
    "day1 = datetime.date(2024, 3, 12)\n",
    "day2 = datetime.date(2024, 1, 22)\n",
    "day1, day2"
   ]
  },
  {
   "cell_type": "code",
   "execution_count": 80,
   "id": "9333e2c0",
   "metadata": {},
   "outputs": [
    {
     "data": {
      "text/plain": [
       "50"
      ]
     },
     "execution_count": 80,
     "metadata": {},
     "output_type": "execute_result"
    }
   ],
   "source": [
    "diff = day1 - day2\n",
    "diff.days"
   ]
  },
  {
   "cell_type": "code",
   "execution_count": 81,
   "id": "c0ae9ac2",
   "metadata": {},
   "outputs": [
    {
     "data": {
      "text/plain": [
       "0"
      ]
     },
     "execution_count": 81,
     "metadata": {},
     "output_type": "execute_result"
    }
   ],
   "source": [
    "day = datetime.date(2024, 1, 22)\n",
    "day.weekday()"
   ]
  },
  {
   "cell_type": "markdown",
   "id": "b4a42273",
   "metadata": {},
   "source": [
    "## time\n",
    "### time.time: 현재 시간을 실수 형태로 리턴 \n",
    "    (1970년 1월 1일 0시 0분 0초를 기준으로 지난 시간을 초 단위로 리턴)\n",
    "### time.localtime: time.time()이 리턴한 실숫값을 사용해서 연, 월, 일, 시, 분, 초, ... 의 형태로 바꾸어 주는 함수"
   ]
  },
  {
   "cell_type": "code",
   "execution_count": 82,
   "id": "06112b4f",
   "metadata": {},
   "outputs": [
    {
     "data": {
      "text/plain": [
       "1710209848.1508515"
      ]
     },
     "execution_count": 82,
     "metadata": {},
     "output_type": "execute_result"
    }
   ],
   "source": [
    "import time\n",
    "time.time()"
   ]
  },
  {
   "cell_type": "code",
   "execution_count": 83,
   "id": "448e32dc",
   "metadata": {},
   "outputs": [
    {
     "data": {
      "text/plain": [
       "time.struct_time(tm_year=2024, tm_mon=3, tm_mday=12, tm_hour=11, tm_min=17, tm_sec=32, tm_wday=1, tm_yday=72, tm_isdst=0)"
      ]
     },
     "execution_count": 83,
     "metadata": {},
     "output_type": "execute_result"
    }
   ],
   "source": [
    " time.localtime(time.time())"
   ]
  },
  {
   "cell_type": "markdown",
   "id": "c21dc01f",
   "metadata": {},
   "source": [
    "### time.asctime: 튜플 형태의 값을 인수로 받아서 날짜와 시간을 알아보기 쉬운 형태로 리턴"
   ]
  },
  {
   "cell_type": "code",
   "execution_count": 84,
   "id": "0dabea8b",
   "metadata": {},
   "outputs": [
    {
     "data": {
      "text/plain": [
       "'Tue Mar 12 11:18:09 2024'"
      ]
     },
     "execution_count": 84,
     "metadata": {},
     "output_type": "execute_result"
    }
   ],
   "source": [
    "time.asctime(time.localtime(time.time()))"
   ]
  },
  {
   "cell_type": "markdown",
   "id": "d31fea7c",
   "metadata": {},
   "source": [
    "### time.ctime: 현재 시간만을 리턴"
   ]
  },
  {
   "cell_type": "code",
   "execution_count": 85,
   "id": "6e263032",
   "metadata": {},
   "outputs": [
    {
     "data": {
      "text/plain": [
       "'Tue Mar 12 11:18:39 2024'"
      ]
     },
     "execution_count": 85,
     "metadata": {},
     "output_type": "execute_result"
    }
   ],
   "source": [
    "time.ctime()"
   ]
  },
  {
   "cell_type": "markdown",
   "id": "19586a85",
   "metadata": {},
   "source": [
    "### time.strftime: 시간에 관계된 것을 세밀하게 표현하는 여러 가지 포맷 코드를 제공"
   ]
  },
  {
   "cell_type": "code",
   "execution_count": 86,
   "id": "2f624b9d",
   "metadata": {},
   "outputs": [
    {
     "data": {
      "text/plain": [
       "'03/12/24'"
      ]
     },
     "execution_count": 86,
     "metadata": {},
     "output_type": "execute_result"
    }
   ],
   "source": [
    "# %x - 현재 설정된 지역에 기반한 날짜 출력\n",
    "\n",
    "import time\n",
    "time.strftime('%x', time.localtime(time.time()))"
   ]
  },
  {
   "cell_type": "code",
   "execution_count": 88,
   "id": "5f8f34a6",
   "metadata": {},
   "outputs": [
    {
     "data": {
      "text/plain": [
       "'Tue Mar 12 11:21:18 2024'"
      ]
     },
     "execution_count": 88,
     "metadata": {},
     "output_type": "execute_result"
    }
   ],
   "source": [
    "# %c - 날짜와 시간을 출력함.\n",
    "\n",
    "time.strftime('%c', time.localtime(time.time()))"
   ]
  },
  {
   "cell_type": "markdown",
   "id": "cbf47ac9",
   "metadata": {},
   "source": [
    "### time.sleep: 루프 안에서 많이 사용. 일정한 시간 간격을 두고 루프를 실행"
   ]
  },
  {
   "cell_type": "code",
   "execution_count": 89,
   "id": "2b642870",
   "metadata": {
    "scrolled": true
   },
   "outputs": [
    {
     "name": "stdout",
     "output_type": "stream",
     "text": [
      "0\n",
      "1\n",
      "2\n",
      "3\n",
      "4\n",
      "5\n",
      "6\n",
      "7\n",
      "8\n",
      "9\n"
     ]
    }
   ],
   "source": [
    "# 일정한 시간 간격(1초)을 두고 값이 출력됨\n",
    "\n",
    "import time\n",
    "for i in range(10):\n",
    "    print(i)\n",
    "    time.sleep(1)  # 1초 간격 (소수점도 가능)"
   ]
  },
  {
   "cell_type": "markdown",
   "id": "28652347",
   "metadata": {},
   "source": [
    "- 인수 없이 time 함수 사용하기 (현재시간으로 표기)"
   ]
  },
  {
   "cell_type": "code",
   "execution_count": 90,
   "id": "4a493f7c",
   "metadata": {},
   "outputs": [
    {
     "data": {
      "text/plain": [
       "time.struct_time(tm_year=2024, tm_mon=3, tm_mday=12, tm_hour=11, tm_min=26, tm_sec=37, tm_wday=1, tm_yday=72, tm_isdst=0)"
      ]
     },
     "execution_count": 90,
     "metadata": {},
     "output_type": "execute_result"
    }
   ],
   "source": [
    "time.localtime()"
   ]
  },
  {
   "cell_type": "code",
   "execution_count": 91,
   "id": "6ff833cc",
   "metadata": {},
   "outputs": [
    {
     "data": {
      "text/plain": [
       "'Tue Mar 12 11:26:40 2024'"
      ]
     },
     "execution_count": 91,
     "metadata": {},
     "output_type": "execute_result"
    }
   ],
   "source": [
    "time.asctime()"
   ]
  },
  {
   "cell_type": "code",
   "execution_count": 92,
   "id": "7b2b2de9",
   "metadata": {},
   "outputs": [
    {
     "data": {
      "text/plain": [
       "'Tue Mar 12 11:26:45 2024'"
      ]
     },
     "execution_count": 92,
     "metadata": {},
     "output_type": "execute_result"
    }
   ],
   "source": [
    "time.strftime('%c')"
   ]
  },
  {
   "cell_type": "markdown",
   "id": "375163d4",
   "metadata": {},
   "source": [
    "### math.gcd: 최대 공약수(gcd, greatest common divisor)를 쉽게 구할 수 있다.\n",
    "    공약수란 두 수 이상의 여러 수의 공통된 약수를 말하며 공약수 중 가장 큰 수를 최대 공약수\n",
    "### math.lcm: 최소 공배수(lcm, least common multiple)\n",
    "    최소 공배수란 두 수의 공통 배수 중 가장 작은 수"
   ]
  },
  {
   "cell_type": "markdown",
   "id": "01f6627e",
   "metadata": {},
   "source": [
    "### random: 난수(규칙이 없는 임의의 수)를 발생시키는 모듈"
   ]
  },
  {
   "cell_type": "code",
   "execution_count": 93,
   "id": "3804cc12",
   "metadata": {},
   "outputs": [
    {
     "data": {
      "text/plain": [
       "0.6021977656000352"
      ]
     },
     "execution_count": 93,
     "metadata": {},
     "output_type": "execute_result"
    }
   ],
   "source": [
    "import random\n",
    "random.random()"
   ]
  },
  {
   "cell_type": "code",
   "execution_count": 94,
   "id": "b7c11848",
   "metadata": {},
   "outputs": [
    {
     "data": {
      "text/plain": [
       "10"
      ]
     },
     "execution_count": 94,
     "metadata": {},
     "output_type": "execute_result"
    }
   ],
   "source": [
    "# 1에서 10 사이의 정수 중에서 난수 값을 리턴\n",
    "\n",
    "random.randint(1, 10)"
   ]
  },
  {
   "cell_type": "code",
   "execution_count": 95,
   "id": "663e3c3e",
   "metadata": {},
   "outputs": [
    {
     "data": {
      "text/plain": [
       "52"
      ]
     },
     "execution_count": 95,
     "metadata": {},
     "output_type": "execute_result"
    }
   ],
   "source": [
    "#  1에서 55 사이의 정수 중에서 난수 값을 리턴\n",
    "\n",
    "random.randint(1, 55)"
   ]
  },
  {
   "cell_type": "code",
   "execution_count": 96,
   "id": "6ca1a75e",
   "metadata": {},
   "outputs": [
    {
     "data": {
      "text/plain": [
       "[2, 1, 3, 5, 4]"
      ]
     },
     "execution_count": 96,
     "metadata": {},
     "output_type": "execute_result"
    }
   ],
   "source": [
    "# 무작위로 섞고 싶을 때\n",
    "\n",
    "import random\n",
    "data = [1, 2, 3, 4, 5]\n",
    "random.sample(data, len(data))"
   ]
  },
  {
   "cell_type": "markdown",
   "id": "62d682ec",
   "metadata": {},
   "source": [
    "### glob: 파일을 읽고 쓰는 기능이 있는 프로그램을 만들다 보면 특정 디렉터리에 있는 파일 이름 모두를 알아야 할 때 사용\n",
    "    디렉터리 안의 파일들을 읽어서 리턴"
   ]
  },
  {
   "cell_type": "markdown",
   "id": "93119891",
   "metadata": {},
   "source": [
    "#### 디렉터리에 있는 파일들을 리스트로 만들기 - glob(pathname)"
   ]
  },
  {
   "cell_type": "code",
   "execution_count": 97,
   "id": "228980f7",
   "metadata": {},
   "outputs": [
    {
     "data": {
      "text/plain": [
       "'C:\\\\workspace\\\\Wassup2\\\\python'"
      ]
     },
     "execution_count": 97,
     "metadata": {},
     "output_type": "execute_result"
    }
   ],
   "source": [
    "pwd"
   ]
  },
  {
   "cell_type": "code",
   "execution_count": 99,
   "id": "95cce035",
   "metadata": {},
   "outputs": [
    {
     "data": {
      "text/plain": [
       "['C:\\\\workspace\\\\Wassup2\\\\python\\\\00_마크다운.ipynb',\n",
       " 'C:\\\\workspace\\\\Wassup2\\\\python\\\\01_자료형&변수_연습문제_실습용.ipynb',\n",
       " 'C:\\\\workspace\\\\Wassup2\\\\python\\\\02_제어문_연습문제_실습용.ipynb',\n",
       " 'C:\\\\workspace\\\\Wassup2\\\\python\\\\03_코딩연습_전화번호프로그램_실습용.ipynb',\n",
       " 'C:\\\\workspace\\\\Wassup2\\\\python\\\\04_함수&입출력_연습문제_실습용.ipynb',\n",
       " 'C:\\\\workspace\\\\Wassup2\\\\python\\\\05_클래스&내장함수_연습문제_실습용.ipynb',\n",
       " 'C:\\\\workspace\\\\Wassup2\\\\python\\\\내장 함수 & 라이브러리.ipynb',\n",
       " 'C:\\\\workspace\\\\Wassup2\\\\python\\\\자료형과 변수.ipynb',\n",
       " 'C:\\\\workspace\\\\Wassup2\\\\python\\\\제어문.ipynb',\n",
       " 'C:\\\\workspace\\\\Wassup2\\\\python\\\\파이썬 문제.ipynb',\n",
       " 'C:\\\\workspace\\\\Wassup2\\\\python\\\\파이썬 클래스.ipynb',\n",
       " 'C:\\\\workspace\\\\Wassup2\\\\python\\\\함수와 입출력.ipynb']"
      ]
     },
     "execution_count": 99,
     "metadata": {},
     "output_type": "execute_result"
    }
   ],
   "source": [
    "import glob\n",
    "glob.glob('C:\\workspace\\Wassup2\\python\\*.ipynb')"
   ]
  },
  {
   "cell_type": "code",
   "execution_count": 121,
   "id": "67b6a1a3",
   "metadata": {},
   "outputs": [
    {
     "name": "stdout",
     "output_type": "stream",
     "text": [
      "['00_마크다운', 'ipynb']\n",
      "['01_자료형&변수_연습문제_실습용', 'ipynb']\n",
      "['02_제어문_연습문제_실습용', 'ipynb']\n",
      "['03_코딩연습_전화번호프로그램_실습용', 'ipynb']\n",
      "['04_함수&입출력_연습문제_실습용', 'ipynb']\n",
      "['05_클래스&내장함수_연습문제_실습용', 'ipynb']\n",
      "['내장 함수 & 라이브러리', 'ipynb']\n",
      "['자료형과 변수', 'ipynb']\n",
      "['제어문', 'ipynb']\n",
      "['파이썬 문제', 'ipynb']\n",
      "['파이썬 클래스', 'ipynb']\n",
      "['함수와 입출력', 'ipynb']\n"
     ]
    }
   ],
   "source": [
    "pyfiles = glob.glob('C:\\workspace\\Wassup2\\python\\*.ipynb')\n",
    "\n",
    "for file in pyfiles:\n",
    "    print(file.split('\\\\')[-1].split('.'[0]))"
   ]
  },
  {
   "cell_type": "markdown",
   "id": "3d276a6d",
   "metadata": {},
   "source": [
    "### pickle: 객체의 형태를 그대로 유지하면서 파일에 저장하고 불러올 수 있게 하는 모듈"
   ]
  },
  {
   "cell_type": "markdown",
   "id": "390bb89c",
   "metadata": {},
   "source": [
    "### os: 환경 변수나 디렉터리, 파일 등의 OS 자원을 제어할 수 있게 해 주는 모듈"
   ]
  },
  {
   "cell_type": "code",
   "execution_count": 1,
   "id": "4272c83a",
   "metadata": {},
   "outputs": [
    {
     "data": {
      "text/plain": [
       "environ{'ALLUSERSPROFILE': 'C:\\\\ProgramData',\n",
       "        'APPDATA': 'C:\\\\Users\\\\jh\\\\AppData\\\\Roaming',\n",
       "        'COMMONPROGRAMFILES': 'C:\\\\Program Files\\\\Common Files',\n",
       "        'COMMONPROGRAMFILES(X86)': 'C:\\\\Program Files (x86)\\\\Common Files',\n",
       "        'COMMONPROGRAMW6432': 'C:\\\\Program Files\\\\Common Files',\n",
       "        'COMPUTERNAME': 'DESKTOP-11DSHLG',\n",
       "        'COMSPEC': 'C:\\\\Windows\\\\system32\\\\cmd.exe',\n",
       "        'DRIVERDATA': 'C:\\\\Windows\\\\System32\\\\Drivers\\\\DriverData',\n",
       "        'FPS_BROWSER_APP_PROFILE_STRING': 'Internet Explorer',\n",
       "        'FPS_BROWSER_USER_PROFILE_STRING': 'Default',\n",
       "        'HOMEDRIVE': 'C:',\n",
       "        'HOMEPATH': '\\\\Users\\\\jh',\n",
       "        'LOCALAPPDATA': 'C:\\\\Users\\\\jh\\\\AppData\\\\Local',\n",
       "        'LOGONSERVER': '\\\\\\\\DESKTOP-11DSHLG',\n",
       "        'NUMBER_OF_PROCESSORS': '4',\n",
       "        'ONEDRIVE': 'C:\\\\Users\\\\jh\\\\OneDrive',\n",
       "        'OS': 'Windows_NT',\n",
       "        'PATH': 'C:\\\\Program Files\\\\MySQL\\\\MySQL Server 8.0\\\\bin;C:\\\\Windows\\\\system32;C:\\\\Windows;C:\\\\Windows\\\\System32\\\\Wbem;C:\\\\Windows\\\\System32\\\\WindowsPowerShell\\\\v1.0\\\\;C:\\\\Windows\\\\System32\\\\OpenSSH\\\\;C:\\\\Program Files\\\\Bandizip\\\\;C:\\\\Program Files\\\\Git\\\\cmd;C:\\\\Users\\\\jh\\\\AppData\\\\Local\\\\anaconda3;C:\\\\Users\\\\jh\\\\AppData\\\\Local\\\\anaconda3\\\\Library\\\\mingw-w64\\\\bin;C:\\\\Users\\\\jh\\\\AppData\\\\Local\\\\anaconda3\\\\Library\\\\usr\\\\bin;C:\\\\Users\\\\jh\\\\AppData\\\\Local\\\\anaconda3\\\\Library\\\\bin;C:\\\\Users\\\\jh\\\\AppData\\\\Local\\\\anaconda3\\\\Scripts;C:\\\\Users\\\\jh\\\\AppData\\\\Local\\\\Microsoft\\\\WindowsApps',\n",
       "        'PATHEXT': '.COM;.EXE;.BAT;.CMD;.VBS;.VBE;.JS;.JSE;.WSF;.WSH;.MSC',\n",
       "        'PROCESSOR_ARCHITECTURE': 'AMD64',\n",
       "        'PROCESSOR_IDENTIFIER': 'Intel64 Family 6 Model 78 Stepping 3, GenuineIntel',\n",
       "        'PROCESSOR_LEVEL': '6',\n",
       "        'PROCESSOR_REVISION': '4e03',\n",
       "        'PROGRAMDATA': 'C:\\\\ProgramData',\n",
       "        'PROGRAMFILES': 'C:\\\\Program Files',\n",
       "        'PROGRAMFILES(X86)': 'C:\\\\Program Files (x86)',\n",
       "        'PROGRAMW6432': 'C:\\\\Program Files',\n",
       "        'PROMPT': '$P$G',\n",
       "        'PSMODULEPATH': 'C:\\\\Program Files\\\\WindowsPowerShell\\\\Modules;C:\\\\Windows\\\\system32\\\\WindowsPowerShell\\\\v1.0\\\\Modules',\n",
       "        'PUBLIC': 'C:\\\\Users\\\\Public',\n",
       "        'SESSIONNAME': 'Console',\n",
       "        'SYSTEMDRIVE': 'C:',\n",
       "        'SYSTEMROOT': 'C:\\\\Windows',\n",
       "        'TEMP': 'C:\\\\Users\\\\jh\\\\AppData\\\\Local\\\\Temp',\n",
       "        'TMP': 'C:\\\\Users\\\\jh\\\\AppData\\\\Local\\\\Temp',\n",
       "        'USERDOMAIN': 'DESKTOP-11DSHLG',\n",
       "        'USERDOMAIN_ROAMINGPROFILE': 'DESKTOP-11DSHLG',\n",
       "        'USERNAME': 'jh',\n",
       "        'USERPROFILE': 'C:\\\\Users\\\\jh',\n",
       "        'WINDIR': 'C:\\\\Windows',\n",
       "        'ZES_ENABLE_SYSMAN': '1',\n",
       "        'PYDEVD_USE_FRAME_EVAL': 'NO',\n",
       "        'JPY_INTERRUPT_EVENT': '3032',\n",
       "        'IPY_INTERRUPT_EVENT': '3032',\n",
       "        'JPY_PARENT_PID': '2744',\n",
       "        'TERM': 'xterm-color',\n",
       "        'CLICOLOR': '1',\n",
       "        'FORCE_COLOR': '1',\n",
       "        'CLICOLOR_FORCE': '1',\n",
       "        'PAGER': 'cat',\n",
       "        'GIT_PAGER': 'cat',\n",
       "        'MPLBACKEND': 'module://matplotlib_inline.backend_inline'}"
      ]
     },
     "execution_count": 1,
     "metadata": {},
     "output_type": "execute_result"
    }
   ],
   "source": [
    "# 내 시스템의 환경 변숫값을 알고 싶을 때 - os.environ\n",
    "\n",
    "import os\n",
    "os.environ"
   ]
  },
  {
   "cell_type": "code",
   "execution_count": 2,
   "id": "0e0d8381",
   "metadata": {},
   "outputs": [
    {
     "data": {
      "text/plain": [
       "'C:\\\\Program Files\\\\MySQL\\\\MySQL Server 8.0\\\\bin;C:\\\\Windows\\\\system32;C:\\\\Windows;C:\\\\Windows\\\\System32\\\\Wbem;C:\\\\Windows\\\\System32\\\\WindowsPowerShell\\\\v1.0\\\\;C:\\\\Windows\\\\System32\\\\OpenSSH\\\\;C:\\\\Program Files\\\\Bandizip\\\\;C:\\\\Program Files\\\\Git\\\\cmd;C:\\\\Users\\\\jh\\\\AppData\\\\Local\\\\anaconda3;C:\\\\Users\\\\jh\\\\AppData\\\\Local\\\\anaconda3\\\\Library\\\\mingw-w64\\\\bin;C:\\\\Users\\\\jh\\\\AppData\\\\Local\\\\anaconda3\\\\Library\\\\usr\\\\bin;C:\\\\Users\\\\jh\\\\AppData\\\\Local\\\\anaconda3\\\\Library\\\\bin;C:\\\\Users\\\\jh\\\\AppData\\\\Local\\\\anaconda3\\\\Scripts;C:\\\\Users\\\\jh\\\\AppData\\\\Local\\\\Microsoft\\\\WindowsApps'"
      ]
     },
     "execution_count": 2,
     "metadata": {},
     "output_type": "execute_result"
    }
   ],
   "source": [
    "os.environ['PATH']"
   ]
  },
  {
   "cell_type": "code",
   "execution_count": 3,
   "id": "bf695ee0",
   "metadata": {},
   "outputs": [],
   "source": [
    "# 디렉터리 위치 변경하기 - os.chdir\n",
    "\n",
    "os.chdir(\"C:\\WINDOWS\")"
   ]
  },
  {
   "cell_type": "code",
   "execution_count": 5,
   "id": "4634f0f4",
   "metadata": {},
   "outputs": [
    {
     "data": {
      "text/plain": [
       "0"
      ]
     },
     "execution_count": 5,
     "metadata": {},
     "output_type": "execute_result"
    }
   ],
   "source": [
    "# 시스템 명령어 호출하기 - os.system\n",
    "\n",
    "os.system(\"dir\")"
   ]
  },
  {
   "cell_type": "markdown",
   "id": "d891997e",
   "metadata": {},
   "source": [
    "### zipfile: 여러 개의 파일을 zip 형식으로 합치거나 이를 해제할 때 사용하는 모듈"
   ]
  },
  {
   "cell_type": "markdown",
   "id": "d339c8f2",
   "metadata": {},
   "source": [
    "### threading: 한 프로세스 안에서 2가지 또는 그 이상의 일을 동시에 수행할 수 있는 모듈"
   ]
  },
  {
   "cell_type": "markdown",
   "id": "6c2d5106",
   "metadata": {},
   "source": [
    "### tempfile: 파일을 임시로 만들어서 사용할 때 유용한 모듈"
   ]
  },
  {
   "cell_type": "markdown",
   "id": "9c36d079",
   "metadata": {},
   "source": [
    "### traceback: 프로그램 실행 중 발생한 오류를 추적하고자 할 때 사용하는 모듈"
   ]
  },
  {
   "cell_type": "markdown",
   "id": "e0c10db7",
   "metadata": {},
   "source": [
    "### json: SON 데이터를 쉽게 처리하고자 사용하는 모듈"
   ]
  },
  {
   "cell_type": "markdown",
   "id": "324736e5",
   "metadata": {},
   "source": [
    "### urllib: URL을 읽고 분석할 때 사용하는 모듈"
   ]
  },
  {
   "cell_type": "code",
   "execution_count": 23,
   "id": "db46c225",
   "metadata": {},
   "outputs": [],
   "source": [
    "# urllib_test.py\n",
    "import urllib.request\n",
    "\n",
    "def get_wikidocs(page):\n",
    "    resource = 'https://wikidocs.net/{}'.format(page)\n",
    "    with urllib.request.urlopen(resource) as s:\n",
    "        with open('wikidocs_%s.html' % page, 'wb') as f:\n",
    "            f.write(s.read())"
   ]
  },
  {
   "cell_type": "markdown",
   "id": "78dc9ac0",
   "metadata": {},
   "source": [
    "### webbrowser: 파이썬 프로그램에서 시스템 브라우저를 호출할 때 사용하는 모듈"
   ]
  },
  {
   "cell_type": "code",
   "execution_count": 25,
   "id": "a5fec6a5",
   "metadata": {},
   "outputs": [
    {
     "data": {
      "text/plain": [
       "True"
      ]
     },
     "execution_count": 25,
     "metadata": {},
     "output_type": "execute_result"
    }
   ],
   "source": [
    "import webbrowser\n",
    "\n",
    "webbrowser.open_new('http://python.org')"
   ]
  },
  {
   "cell_type": "markdown",
   "id": "82a3f1b8",
   "metadata": {},
   "source": []
  },
  {
   "cell_type": "markdown",
   "id": "ae70402b",
   "metadata": {},
   "source": [
    "# 외부 라이브러리\n",
    "- 파이썬 표준 라이브러리가 아니므로 사용하려면 먼저 pip 도구를 이용하여 설치"
   ]
  },
  {
   "cell_type": "markdown",
   "id": "ae593b9b",
   "metadata": {},
   "source": [
    "### pip: 파이썬 모듈이나 패키지를 쉽게 설치할 수 있도록 도와주는 도구\n",
    " - 의존성 있는 모듈이나 패키지를 함께 설치해 주기 때문에 매우 편리\n",
    "### pip install: 파이썬 소프트웨어가 모인 저장 공간"
   ]
  },
  {
   "cell_type": "markdown",
   "id": "6928493e",
   "metadata": {},
   "source": [
    "### pip uninstall: 설치한 패키지를 삭제"
   ]
  },
  {
   "cell_type": "markdown",
   "id": "c3658953",
   "metadata": {},
   "source": [
    "### Faker:  테스트용 가짜 데이터를 생성할 때 사용하는 라이브러리"
   ]
  },
  {
   "cell_type": "code",
   "execution_count": 27,
   "id": "4f81f059",
   "metadata": {},
   "outputs": [
    {
     "name": "stdout",
     "output_type": "stream",
     "text": [
      "Collecting Faker\n",
      "  Obtaining dependency information for Faker from https://files.pythonhosted.org/packages/c5/ad/87c165d63be249db767227109d35e22cde75c9c941d69edc1b175f4928f0/Faker-24.1.0-py3-none-any.whl.metadata\n",
      "  Downloading Faker-24.1.0-py3-none-any.whl.metadata (15 kB)\n",
      "Requirement already satisfied: python-dateutil>=2.4 in c:\\users\\jh\\appdata\\local\\anaconda3\\lib\\site-packages (from Faker) (2.8.2)\n",
      "Requirement already satisfied: six>=1.5 in c:\\users\\jh\\appdata\\local\\anaconda3\\lib\\site-packages (from python-dateutil>=2.4->Faker) (1.16.0)\n",
      "Downloading Faker-24.1.0-py3-none-any.whl (1.8 MB)\n",
      "   ---------------------------------------- 0.0/1.8 MB ? eta -:--:--\n",
      "   ---------------------------------------- 0.0/1.8 MB ? eta -:--:--\n",
      "   ---------------------------------------- 0.0/1.8 MB ? eta -:--:--\n",
      "   - -------------------------------------- 0.1/1.8 MB 656.4 kB/s eta 0:00:03\n",
      "   ----- ---------------------------------- 0.2/1.8 MB 1.7 MB/s eta 0:00:01\n",
      "   ------ --------------------------------- 0.3/1.8 MB 1.8 MB/s eta 0:00:01\n",
      "   --------- ------------------------------ 0.4/1.8 MB 1.8 MB/s eta 0:00:01\n",
      "   ------------- -------------------------- 0.6/1.8 MB 2.3 MB/s eta 0:00:01\n",
      "   ------------------ --------------------- 0.8/1.8 MB 2.7 MB/s eta 0:00:01\n",
      "   ------------------------ --------------- 1.1/1.8 MB 3.0 MB/s eta 0:00:01\n",
      "   ------------------------- -------------- 1.1/1.8 MB 3.1 MB/s eta 0:00:01\n",
      "   ---------------------------------- ----- 1.5/1.8 MB 3.3 MB/s eta 0:00:01\n",
      "   ---------------------------------------  1.7/1.8 MB 3.6 MB/s eta 0:00:01\n",
      "   ---------------------------------------- 1.8/1.8 MB 3.3 MB/s eta 0:00:00\n",
      "Installing collected packages: Faker\n",
      "Successfully installed Faker-24.1.0\n",
      "Note: you may need to restart the kernel to use updated packages.\n"
     ]
    }
   ],
   "source": [
    "pip install Faker"
   ]
  },
  {
   "cell_type": "code",
   "execution_count": 28,
   "id": "4c58a439",
   "metadata": {},
   "outputs": [
    {
     "data": {
      "text/plain": [
       "'Joel Perez'"
      ]
     },
     "execution_count": 28,
     "metadata": {},
     "output_type": "execute_result"
    }
   ],
   "source": [
    "from faker import Faker\n",
    "fake = Faker()\n",
    "fake.name()"
   ]
  },
  {
   "cell_type": "code",
   "execution_count": 36,
   "id": "ebcd993b",
   "metadata": {},
   "outputs": [
    {
     "data": {
      "text/plain": [
       "'구예은'"
      ]
     },
     "execution_count": 36,
     "metadata": {},
     "output_type": "execute_result"
    }
   ],
   "source": [
    "fake = Faker('ko-KR')\n",
    "fake.name()"
   ]
  },
  {
   "cell_type": "code",
   "execution_count": 37,
   "id": "bc2dbdae",
   "metadata": {},
   "outputs": [
    {
     "data": {
      "text/plain": [
       "'울산광역시 송파구 석촌호수75거리 (경희김동)'"
      ]
     },
     "execution_count": 37,
     "metadata": {},
     "output_type": "execute_result"
    }
   ],
   "source": [
    "fake.address()"
   ]
  },
  {
   "cell_type": "code",
   "execution_count": 39,
   "id": "6b52309f",
   "metadata": {},
   "outputs": [
    {
     "data": {
      "text/plain": [
       "[('김건우', '경상남도 안양시 만안구 압구정거리 (영일김서동)'),\n",
       " ('김정자', '강원도 서천군 언주749길'),\n",
       " ('배상훈', '부산광역시 양천구 서초대로'),\n",
       " ('김보람', '광주광역시 북구 강남대거리'),\n",
       " ('김지민', '세종특별자치시 성북구 봉은사5길 (채원이김리)'),\n",
       " ('이예은', '경상북도 광명시 가락924로'),\n",
       " ('허지영', '세종특별자치시 중랑구 서초대29거리 (현우이남리)'),\n",
       " ('구하은', '강원도 용인시 처인구 삼성거리'),\n",
       " ('김성호', '전라북도 평택시 삼성가'),\n",
       " ('김수진', '전라북도 홍천군 압구정길'),\n",
       " ('류동현', '제주특별자치도 영월군 반포대가'),\n",
       " ('박지영', '경기도 영동군 삼성거리'),\n",
       " ('이상철', '대전광역시 관악구 서초중앙960가'),\n",
       " ('장숙자', '부산광역시 동구 서초중앙거리'),\n",
       " ('진미숙', '전라남도 옥천군 봉은사로 (시우이면)'),\n",
       " ('박은지', '경상남도 오산시 강남대2가'),\n",
       " ('이광수', '서울특별시 동구 논현44로 (정수김리)'),\n",
       " ('양예지', '대전광역시 서초구 개포97로 (영희심이리)'),\n",
       " ('김명숙', '광주광역시 강서구 테헤란4로'),\n",
       " ('강민석', '경상북도 제천시 개포66로 (재호박윤동)'),\n",
       " ('김옥자', '광주광역시 노원구 석촌호수로'),\n",
       " ('김광수', '전라남도 영월군 서초중앙거리'),\n",
       " ('송성민', '제주특별자치도 부천시 오정구 영동대0길'),\n",
       " ('윤영길', '대구광역시 서대문구 논현거리'),\n",
       " ('우수진', '서울특별시 북구 석촌호수32거리'),\n",
       " ('박예은', '부산광역시 서초구 서초중앙가'),\n",
       " ('박정남', '충청남도 광주시 서초중앙거리'),\n",
       " ('김영희', '충청남도 홍천군 도산대거리'),\n",
       " ('김영일', '울산광역시 구로구 역삼거리 (영환김면)'),\n",
       " ('김성훈', '울산광역시 양천구 강남대38길')]"
      ]
     },
     "execution_count": 39,
     "metadata": {},
     "output_type": "execute_result"
    }
   ],
   "source": [
    "test_data = [(fake.name(), fake.address()) for i in range(30)]\n",
    "test_data"
   ]
  },
  {
   "cell_type": "code",
   "execution_count": 40,
   "id": "b817f7fe",
   "metadata": {},
   "outputs": [
    {
     "data": {
      "text/plain": [
       "'주식회사 박김김'"
      ]
     },
     "execution_count": 40,
     "metadata": {},
     "output_type": "execute_result"
    }
   ],
   "source": [
    "fake.company()"
   ]
  },
  {
   "cell_type": "code",
   "execution_count": 43,
   "id": "0d536635",
   "metadata": {},
   "outputs": [
    {
     "data": {
      "text/plain": [
       "'낮은 역수 프레임워크'"
      ]
     },
     "execution_count": 43,
     "metadata": {},
     "output_type": "execute_result"
    }
   ],
   "source": [
    "fake.catch_phrase()"
   ]
  },
  {
   "cell_type": "code",
   "execution_count": null,
   "id": "d47cb6ab",
   "metadata": {},
   "outputs": [],
   "source": []
  },
  {
   "cell_type": "code",
   "execution_count": null,
   "id": "754731ec",
   "metadata": {},
   "outputs": [],
   "source": []
  },
  {
   "cell_type": "code",
   "execution_count": null,
   "id": "9cb504b2",
   "metadata": {},
   "outputs": [],
   "source": []
  },
  {
   "cell_type": "code",
   "execution_count": null,
   "id": "a6a79c5f",
   "metadata": {},
   "outputs": [],
   "source": []
  },
  {
   "cell_type": "code",
   "execution_count": null,
   "id": "a7e98d46",
   "metadata": {},
   "outputs": [],
   "source": []
  },
  {
   "cell_type": "code",
   "execution_count": null,
   "id": "b538398b",
   "metadata": {},
   "outputs": [],
   "source": []
  },
  {
   "cell_type": "code",
   "execution_count": null,
   "id": "3bb8fe42",
   "metadata": {},
   "outputs": [],
   "source": []
  },
  {
   "cell_type": "code",
   "execution_count": null,
   "id": "9b37deb2",
   "metadata": {},
   "outputs": [],
   "source": []
  },
  {
   "cell_type": "code",
   "execution_count": null,
   "id": "3634ce00",
   "metadata": {},
   "outputs": [],
   "source": []
  },
  {
   "cell_type": "code",
   "execution_count": null,
   "id": "a71532c3",
   "metadata": {},
   "outputs": [],
   "source": []
  },
  {
   "cell_type": "code",
   "execution_count": null,
   "id": "2833717f",
   "metadata": {},
   "outputs": [],
   "source": []
  },
  {
   "cell_type": "code",
   "execution_count": null,
   "id": "62bac3ec",
   "metadata": {},
   "outputs": [],
   "source": []
  },
  {
   "cell_type": "code",
   "execution_count": null,
   "id": "991f0c16",
   "metadata": {},
   "outputs": [],
   "source": []
  },
  {
   "cell_type": "code",
   "execution_count": null,
   "id": "ecb8692c",
   "metadata": {},
   "outputs": [],
   "source": []
  },
  {
   "cell_type": "code",
   "execution_count": null,
   "id": "aa38033a",
   "metadata": {},
   "outputs": [],
   "source": []
  },
  {
   "cell_type": "code",
   "execution_count": null,
   "id": "0c7bb2c9",
   "metadata": {},
   "outputs": [],
   "source": []
  },
  {
   "cell_type": "code",
   "execution_count": null,
   "id": "2059c5c0",
   "metadata": {},
   "outputs": [],
   "source": []
  }
 ],
 "metadata": {
  "kernelspec": {
   "display_name": "Python 3 (ipykernel)",
   "language": "python",
   "name": "python3"
  },
  "language_info": {
   "codemirror_mode": {
    "name": "ipython",
    "version": 3
   },
   "file_extension": ".py",
   "mimetype": "text/x-python",
   "name": "python",
   "nbconvert_exporter": "python",
   "pygments_lexer": "ipython3",
   "version": "3.11.5"
  }
 },
 "nbformat": 4,
 "nbformat_minor": 5
}
